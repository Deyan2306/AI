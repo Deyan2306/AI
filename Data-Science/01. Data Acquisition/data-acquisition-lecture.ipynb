{
 "cells": [
  {
   "cell_type": "code",
   "execution_count": 1,
   "id": "3796cbf8",
   "metadata": {
    "_cell_guid": "b1076dfc-b9ad-4769-8c92-a6c4dae69d19",
    "_uuid": "8f2839f25d086af736a60e9eeb907d3b93b6e0e5",
    "execution": {
     "iopub.execute_input": "2023-06-18T22:03:09.868367Z",
     "iopub.status.busy": "2023-06-18T22:03:09.867616Z",
     "iopub.status.idle": "2023-06-18T22:03:09.880144Z",
     "shell.execute_reply": "2023-06-18T22:03:09.878743Z"
    },
    "papermill": {
     "duration": 0.01904,
     "end_time": "2023-06-18T22:03:09.882853",
     "exception": false,
     "start_time": "2023-06-18T22:03:09.863813",
     "status": "completed"
    },
    "tags": []
   },
   "outputs": [],
   "source": [
    "# Imports\n",
    "import pandas as pd;"
   ]
  },
  {
   "cell_type": "markdown",
   "id": "5c1cdf6a",
   "metadata": {
    "papermill": {
     "duration": 0.00134,
     "end_time": "2023-06-18T22:03:09.886292",
     "exception": false,
     "start_time": "2023-06-18T22:03:09.884952",
     "status": "completed"
    },
    "tags": []
   },
   "source": [
    "# 01. Data Acquisition\n",
    "\n",
    "Topics:\n",
    "* Acquiring data from different sources;\n",
    "* CSV files;\n",
    "* Web Services. JSON and XML;\n",
    "* SQL databases;\n",
    "* NoSQL databases: MongoDB;\n",
    "* Excel files;\n",
    "* Web crawling and scraping;\n",
    "* Merging different sources. Constraints and validity."
   ]
  },
  {
   "cell_type": "code",
   "execution_count": 2,
   "id": "1c518264",
   "metadata": {
    "execution": {
     "iopub.execute_input": "2023-06-18T22:03:09.890720Z",
     "iopub.status.busy": "2023-06-18T22:03:09.890398Z",
     "iopub.status.idle": "2023-06-18T22:03:09.896638Z",
     "shell.execute_reply": "2023-06-18T22:03:09.895106Z"
    },
    "papermill": {
     "duration": 0.01114,
     "end_time": "2023-06-18T22:03:09.898885",
     "exception": false,
     "start_time": "2023-06-18T22:03:09.887745",
     "status": "completed"
    },
    "tags": []
   },
   "outputs": [
    {
     "name": "stdout",
     "output_type": "stream",
     "text": [
      "We are ready for action! :)\n"
     ]
    }
   ],
   "source": [
    "print(\"We are ready for action! :)\")"
   ]
  },
  {
   "cell_type": "markdown",
   "id": "8c13d98f",
   "metadata": {
    "papermill": {
     "duration": 0.001489,
     "end_time": "2023-06-18T22:03:09.902312",
     "exception": false,
     "start_time": "2023-06-18T22:03:09.900823",
     "status": "completed"
    },
    "tags": []
   },
   "source": [
    "Date: 19.06.2023"
   ]
  }
 ],
 "metadata": {
  "kernelspec": {
   "display_name": "Python 3 (ipykernel)",
   "language": "python",
   "name": "python3"
  },
  "language_info": {
   "codemirror_mode": {
    "name": "ipython",
    "version": 3
   },
   "file_extension": ".py",
   "mimetype": "text/x-python",
   "name": "python",
   "nbconvert_exporter": "python",
   "pygments_lexer": "ipython3",
   "version": "3.10.9"
  },
  "papermill": {
   "default_parameters": {},
   "duration": 10.720166,
   "end_time": "2023-06-18T22:03:10.826245",
   "environment_variables": {},
   "exception": null,
   "input_path": "__notebook__.ipynb",
   "output_path": "__notebook__.ipynb",
   "parameters": {},
   "start_time": "2023-06-18T22:03:00.106079",
   "version": "2.4.0"
  }
 },
 "nbformat": 4,
 "nbformat_minor": 5
}
