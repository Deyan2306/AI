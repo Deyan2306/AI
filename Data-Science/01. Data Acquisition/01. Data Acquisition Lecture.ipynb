{
 "cells": [
  {
   "cell_type": "code",
   "execution_count": 3,
   "id": "524328b4",
   "metadata": {},
   "outputs": [],
   "source": [
    "%matplotlib inline"
   ]
  },
  {
   "cell_type": "code",
   "execution_count": 74,
   "id": "3796cbf8",
   "metadata": {
    "_cell_guid": "b1076dfc-b9ad-4769-8c92-a6c4dae69d19",
    "_uuid": "8f2839f25d086af736a60e9eeb907d3b93b6e0e5",
    "execution": {
     "iopub.execute_input": "2023-06-18T22:03:09.868367Z",
     "iopub.status.busy": "2023-06-18T22:03:09.867616Z",
     "iopub.status.idle": "2023-06-18T22:03:09.880144Z",
     "shell.execute_reply": "2023-06-18T22:03:09.878743Z"
    },
    "papermill": {
     "duration": 0.01904,
     "end_time": "2023-06-18T22:03:09.882853",
     "exception": false,
     "start_time": "2023-06-18T22:03:09.863813",
     "status": "completed"
    },
    "tags": []
   },
   "outputs": [],
   "source": [
    "# Imports\n",
    "import pandas as pd\n",
    "import numpy as np\n",
    "import matplotlib.pyplot as plt\n",
    "import sqlalchemy"
   ]
  },
  {
   "cell_type": "markdown",
   "id": "5c1cdf6a",
   "metadata": {
    "papermill": {
     "duration": 0.00134,
     "end_time": "2023-06-18T22:03:09.886292",
     "exception": false,
     "start_time": "2023-06-18T22:03:09.884952",
     "status": "completed"
    },
    "tags": []
   },
   "source": [
    "# 01. Data Acquisition\n",
    "\n",
    "Topics:\n",
    "* Acquiring data from different sources;\n",
    "* CSV files;\n",
    "* Web Services. JSON and XML;\n",
    "* SQL databases;\n",
    "* NoSQL databases: MongoDB;\n",
    "* Excel files;\n",
    "* Web crawling and scraping;\n",
    "* Merging different sources. Constraints and validity.\n",
    "\n",
    "Additional:\n",
    "* Git"
   ]
  },
  {
   "cell_type": "code",
   "execution_count": 2,
   "id": "1c518264",
   "metadata": {
    "execution": {
     "iopub.execute_input": "2023-06-18T22:03:09.890720Z",
     "iopub.status.busy": "2023-06-18T22:03:09.890398Z",
     "iopub.status.idle": "2023-06-18T22:03:09.896638Z",
     "shell.execute_reply": "2023-06-18T22:03:09.895106Z"
    },
    "papermill": {
     "duration": 0.01114,
     "end_time": "2023-06-18T22:03:09.898885",
     "exception": false,
     "start_time": "2023-06-18T22:03:09.887745",
     "status": "completed"
    },
    "tags": []
   },
   "outputs": [
    {
     "name": "stdout",
     "output_type": "stream",
     "text": [
      "We are ready for action! :)\n"
     ]
    }
   ],
   "source": [
    "# Quick check\n",
    "print(\"We are ready for action! :)\")"
   ]
  },
  {
   "cell_type": "markdown",
   "id": "780af762",
   "metadata": {},
   "source": [
    "The scientific method stays in the foundation:\n",
    "\n",
    "* Ask a question\n",
    "* Do some research (Have somebody implemented it already?)\n",
    "* Form a hypothesis\n",
    "* Test the hypothesis with an experiment (or a question!)\n",
    "    * Experiment works -> Analyze the data\n",
    "    * Experiment doesn't work -> Fix the experiment\n",
    "* Results align with hypothesis -> OK\n",
    "* Results don't alogn with the hypothesis -> new question, new hypothesis\n",
    "* Communicate the results\n",
    "\n"
   ]
  },
  {
   "cell_type": "markdown",
   "id": "2ccadd29",
   "metadata": {},
   "source": [
    "In pandas there are two main ways to work with data:\n",
    "* Table (DataFrame)\n",
    "* List (Series)\n",
    "\n",
    "It is so, due to the normalization"
   ]
  },
  {
   "cell_type": "markdown",
   "id": "d9217e8c",
   "metadata": {},
   "source": [
    "### 1. NumPy vs Python List (type safety)"
   ]
  },
  {
   "cell_type": "code",
   "execution_count": 7,
   "id": "b4f239b4",
   "metadata": {},
   "outputs": [
    {
     "data": {
      "text/plain": [
       "[5, 6, 7, 'SoftUni, 3.14, False, [1, 2, 3]']"
      ]
     },
     "execution_count": 7,
     "metadata": {},
     "output_type": "execute_result"
    }
   ],
   "source": [
    "# The normal python list is not type safe as we can see!\n",
    "my_list = [5, 6, 7, \"SoftUni, 3.14, False, [1, 2, 3]\"]\n",
    "\n",
    "# Check\n",
    "my_list"
   ]
  },
  {
   "cell_type": "code",
   "execution_count": 8,
   "id": "2ed4c9be",
   "metadata": {},
   "outputs": [
    {
     "data": {
      "text/plain": [
       "list"
      ]
     },
     "execution_count": 8,
     "metadata": {},
     "output_type": "execute_result"
    }
   ],
   "source": [
    "# We can also see the type of the list\n",
    "type(my_list)"
   ]
  },
  {
   "cell_type": "markdown",
   "id": "3e4856ea",
   "metadata": {},
   "source": [
    "As we can see, the normal `python` list is not type safe, which could lead to some problems. On the other hand, NumPy arrays and Pandas are. Here are some examples: "
   ]
  },
  {
   "cell_type": "code",
   "execution_count": 9,
   "id": "9b265a25",
   "metadata": {},
   "outputs": [
    {
     "data": {
      "text/plain": [
       "array([4, 5, 6])"
      ]
     },
     "execution_count": 9,
     "metadata": {},
     "output_type": "execute_result"
    }
   ],
   "source": [
    "# NumPy array\n",
    "my_np_array = np.array([4, 5, 6])\n",
    "\n",
    "# Check\n",
    "my_np_array"
   ]
  },
  {
   "cell_type": "code",
   "execution_count": 10,
   "id": "5ce9d3f1",
   "metadata": {},
   "outputs": [
    {
     "data": {
      "text/plain": [
       "numpy.ndarray"
      ]
     },
     "execution_count": 10,
     "metadata": {},
     "output_type": "execute_result"
    }
   ],
   "source": [
    "# Let's check the type\n",
    "type(my_np_array)"
   ]
  },
  {
   "cell_type": "code",
   "execution_count": 11,
   "id": "93fd8175",
   "metadata": {},
   "outputs": [
    {
     "data": {
      "text/plain": [
       "dtype('int64')"
      ]
     },
     "execution_count": 11,
     "metadata": {},
     "output_type": "execute_result"
    }
   ],
   "source": [
    "# We could also ask for the data type\n",
    "my_np_array.dtype"
   ]
  },
  {
   "cell_type": "code",
   "execution_count": 12,
   "id": "defd6e4e",
   "metadata": {},
   "outputs": [
    {
     "data": {
      "text/plain": [
       "array([6, 7, 8, 0])"
      ]
     },
     "execution_count": 12,
     "metadata": {},
     "output_type": "execute_result"
    }
   ],
   "source": [
    "# But let's try adding other value to the np array\n",
    "my_boolean_test = np.array([6, 7, 8, False])\n",
    "\n",
    "# And let's see what we have in there\n",
    "my_boolean_test"
   ]
  },
  {
   "cell_type": "markdown",
   "id": "e668136d",
   "metadata": {},
   "source": [
    "As we could see, the `NumPy` array converted the `False` value to `0`, which is logical enough, right? Yes, but we can come to the conclusion, that in the np array we could use only one data type (unlike the normal python list)"
   ]
  },
  {
   "cell_type": "code",
   "execution_count": 13,
   "id": "ed3af4b1",
   "metadata": {},
   "outputs": [
    {
     "data": {
      "text/plain": [
       "dtype('int64')"
      ]
     },
     "execution_count": 13,
     "metadata": {},
     "output_type": "execute_result"
    }
   ],
   "source": [
    "# If we try to check the data type, we could see, that it is int again\n",
    "my_boolean_test.dtype"
   ]
  },
  {
   "cell_type": "code",
   "execution_count": 14,
   "id": "34935cb6",
   "metadata": {},
   "outputs": [
    {
     "data": {
      "text/plain": [
       "array([6, 7, 8, 0, 1])"
      ]
     },
     "execution_count": 14,
     "metadata": {},
     "output_type": "execute_result"
    }
   ],
   "source": [
    "# Now let's try using True!\n",
    "my_boolean_test = np.array([6, 7, 8, False, True])\n",
    "\n",
    "# And let's check the value again\n",
    "my_boolean_test"
   ]
  },
  {
   "cell_type": "markdown",
   "id": "b7e84d4c",
   "metadata": {},
   "source": [
    "As we can see, it converted `False` to `0` and `True` to `1`!"
   ]
  },
  {
   "cell_type": "code",
   "execution_count": 23,
   "id": "04073e6b",
   "metadata": {},
   "outputs": [
    {
     "name": "stdout",
     "output_type": "stream",
     "text": [
      "----------------------\n",
      "Value: \t\t ['6' '7' '8' 'False' 'True' 'Deyan']\n",
      "Data type: \t <U21\n"
     ]
    }
   ],
   "source": [
    "# Okay, okay, okay, but what if we try to use a string instead?\n",
    "my_boolean_test = np.array([6, 7, 8, False, True, \"Deyan\"])\n",
    "\n",
    "# And let's check the value again\n",
    "print(\"----------------------\\nValue: \\t\\t\", my_boolean_test)\n",
    "print(\"Data type: \\t\", my_boolean_test.dtype)"
   ]
  },
  {
   "cell_type": "markdown",
   "id": "215df9ad",
   "metadata": {},
   "source": [
    "Well, as we can see, it converted everything into strings!! So `NumPy` really tries to use the same data type :)"
   ]
  },
  {
   "cell_type": "code",
   "execution_count": 24,
   "id": "0ad2549b",
   "metadata": {},
   "outputs": [
    {
     "name": "stdout",
     "output_type": "stream",
     "text": [
      "----------------------\n",
      "Value: \t\t [6 7 8 False True 'Deyan' list([42, 63, 11])]\n",
      "Data type: \t object\n"
     ]
    },
    {
     "name": "stderr",
     "output_type": "stream",
     "text": [
      "/tmp/ipykernel_20060/175031211.py:3: VisibleDeprecationWarning: Creating an ndarray from ragged nested sequences (which is a list-or-tuple of lists-or-tuples-or ndarrays with different lengths or shapes) is deprecated. If you meant to do this, you must specify 'dtype=object' when creating the ndarray.\n",
      "  my_boolean_test = np.array([6, 7, 8, False, True, \"Deyan\", [42, 63, 11]])\n"
     ]
    }
   ],
   "source": [
    "# Okay, one last test, what if we add list in there?\n",
    "# Okay, okay, okay, but what if we try to use a string instead?\n",
    "my_boolean_test = np.array([6, 7, 8, False, True, \"Deyan\", [42, 63, 11]])\n",
    "\n",
    "# And let's check the value again\n",
    "print(\"----------------------\\nValue: \\t\\t\", my_boolean_test)\n",
    "print(\"Data type: \\t\", my_boolean_test.dtype)"
   ]
  },
  {
   "cell_type": "markdown",
   "id": "1cb4806c",
   "metadata": {},
   "source": [
    "Interesting results, yes. We got a warning! But that is not all, from the results we could see, that it _converted_ everything into `objects`."
   ]
  },
  {
   "cell_type": "markdown",
   "id": "70b7d38a",
   "metadata": {},
   "source": [
    "### 2. Pandas"
   ]
  },
  {
   "cell_type": "code",
   "execution_count": 26,
   "id": "e428c934",
   "metadata": {},
   "outputs": [
    {
     "data": {
      "text/plain": [
       "0    4.0\n",
       "1    5.5\n",
       "2    6.0\n",
       "dtype: float64"
      ]
     },
     "execution_count": 26,
     "metadata": {},
     "output_type": "execute_result"
    }
   ],
   "source": [
    "# Let's create our first pandas series\n",
    "pd.Series([4, 5.5, 6])"
   ]
  },
  {
   "cell_type": "code",
   "execution_count": 35,
   "id": "ff95f93a",
   "metadata": {},
   "outputs": [
    {
     "data": {
      "text/plain": [
       "0    4.0\n",
       "1    5.5\n",
       "2    6.0\n",
       "dtype: float32"
      ]
     },
     "execution_count": 35,
     "metadata": {},
     "output_type": "execute_result"
    }
   ],
   "source": [
    "# We could also change the data type\n",
    "pd.Series([4, 5.5, 6], dtype = \"float32\")"
   ]
  },
  {
   "cell_type": "code",
   "execution_count": 37,
   "id": "37c69946",
   "metadata": {},
   "outputs": [
    {
     "data": {
      "text/plain": [
       "0    4.0\n",
       "1    5.0\n",
       "2    6.0\n",
       "dtype: float16"
      ]
     },
     "execution_count": 37,
     "metadata": {},
     "output_type": "execute_result"
    }
   ],
   "source": [
    "# Or, we could also convert\n",
    "pd.Series([4, 5, 6]).astype(np.float16)"
   ]
  },
  {
   "cell_type": "markdown",
   "id": "edec052e",
   "metadata": {},
   "source": [
    "But is there any type safety in `Pandas`?"
   ]
  },
  {
   "cell_type": "code",
   "execution_count": 39,
   "id": "131c7bae",
   "metadata": {},
   "outputs": [
    {
     "data": {
      "text/plain": [
       "0                1\n",
       "1                2\n",
       "2                3\n",
       "3    Deyan Sirakov\n",
       "dtype: object"
      ]
     },
     "execution_count": 39,
     "metadata": {},
     "output_type": "execute_result"
    }
   ],
   "source": [
    "# As we can see, it converted it into object\n",
    "pd.Series([1, 2, 3, \"Deyan Sirakov\"])"
   ]
  },
  {
   "cell_type": "code",
   "execution_count": 40,
   "id": "3a6a4132",
   "metadata": {
    "collapsed": true
   },
   "outputs": [
    {
     "ename": "TypeError",
     "evalue": "unsupported operand type(s) for +: 'int' and 'str'",
     "output_type": "error",
     "traceback": [
      "\u001b[0;31m---------------------------------------------------------------------------\u001b[0m",
      "\u001b[0;31mTypeError\u001b[0m                                 Traceback (most recent call last)",
      "Cell \u001b[0;32mIn[40], line 2\u001b[0m\n\u001b[1;32m      1\u001b[0m \u001b[38;5;66;03m# And what if we want to get the sum?\u001b[39;00m\n\u001b[0;32m----> 2\u001b[0m \u001b[43mpd\u001b[49m\u001b[38;5;241;43m.\u001b[39;49m\u001b[43mSeries\u001b[49m\u001b[43m(\u001b[49m\u001b[43m[\u001b[49m\u001b[38;5;241;43m1\u001b[39;49m\u001b[43m,\u001b[49m\u001b[43m \u001b[49m\u001b[38;5;241;43m2\u001b[39;49m\u001b[43m,\u001b[49m\u001b[43m \u001b[49m\u001b[38;5;241;43m3\u001b[39;49m\u001b[43m,\u001b[49m\u001b[43m \u001b[49m\u001b[38;5;124;43m\"\u001b[39;49m\u001b[38;5;124;43mDeyan Sirakov\u001b[39;49m\u001b[38;5;124;43m\"\u001b[39;49m\u001b[43m]\u001b[49m\u001b[43m)\u001b[49m\u001b[38;5;241;43m.\u001b[39;49m\u001b[43msum\u001b[49m\u001b[43m(\u001b[49m\u001b[43m)\u001b[49m\n",
      "File \u001b[0;32m~/Documents/Anaconda/ENTER/lib/python3.10/site-packages/pandas/core/generic.py:11797\u001b[0m, in \u001b[0;36mNDFrame._add_numeric_operations.<locals>.sum\u001b[0;34m(self, axis, skipna, level, numeric_only, min_count, **kwargs)\u001b[0m\n\u001b[1;32m  11777\u001b[0m \u001b[38;5;129m@doc\u001b[39m(\n\u001b[1;32m  11778\u001b[0m     _num_doc,\n\u001b[1;32m  11779\u001b[0m     desc\u001b[38;5;241m=\u001b[39m\u001b[38;5;124m\"\u001b[39m\u001b[38;5;124mReturn the sum of the values over the requested axis.\u001b[39m\u001b[38;5;130;01m\\n\u001b[39;00m\u001b[38;5;130;01m\\n\u001b[39;00m\u001b[38;5;124m\"\u001b[39m\n\u001b[0;32m   (...)\u001b[0m\n\u001b[1;32m  11795\u001b[0m     \u001b[38;5;241m*\u001b[39m\u001b[38;5;241m*\u001b[39mkwargs,\n\u001b[1;32m  11796\u001b[0m ):\n\u001b[0;32m> 11797\u001b[0m     \u001b[38;5;28;01mreturn\u001b[39;00m \u001b[43mNDFrame\u001b[49m\u001b[38;5;241;43m.\u001b[39;49m\u001b[43msum\u001b[49m\u001b[43m(\u001b[49m\n\u001b[1;32m  11798\u001b[0m \u001b[43m        \u001b[49m\u001b[38;5;28;43mself\u001b[39;49m\u001b[43m,\u001b[49m\u001b[43m \u001b[49m\u001b[43maxis\u001b[49m\u001b[43m,\u001b[49m\u001b[43m \u001b[49m\u001b[43mskipna\u001b[49m\u001b[43m,\u001b[49m\u001b[43m \u001b[49m\u001b[43mlevel\u001b[49m\u001b[43m,\u001b[49m\u001b[43m \u001b[49m\u001b[43mnumeric_only\u001b[49m\u001b[43m,\u001b[49m\u001b[43m \u001b[49m\u001b[43mmin_count\u001b[49m\u001b[43m,\u001b[49m\u001b[43m \u001b[49m\u001b[38;5;241;43m*\u001b[39;49m\u001b[38;5;241;43m*\u001b[39;49m\u001b[43mkwargs\u001b[49m\n\u001b[1;32m  11799\u001b[0m \u001b[43m    \u001b[49m\u001b[43m)\u001b[49m\n",
      "File \u001b[0;32m~/Documents/Anaconda/ENTER/lib/python3.10/site-packages/pandas/core/generic.py:11501\u001b[0m, in \u001b[0;36mNDFrame.sum\u001b[0;34m(self, axis, skipna, level, numeric_only, min_count, **kwargs)\u001b[0m\n\u001b[1;32m  11492\u001b[0m \u001b[38;5;28;01mdef\u001b[39;00m \u001b[38;5;21msum\u001b[39m(\n\u001b[1;32m  11493\u001b[0m     \u001b[38;5;28mself\u001b[39m,\n\u001b[1;32m  11494\u001b[0m     axis: Axis \u001b[38;5;241m|\u001b[39m \u001b[38;5;28;01mNone\u001b[39;00m \u001b[38;5;241m=\u001b[39m \u001b[38;5;28;01mNone\u001b[39;00m,\n\u001b[0;32m   (...)\u001b[0m\n\u001b[1;32m  11499\u001b[0m     \u001b[38;5;241m*\u001b[39m\u001b[38;5;241m*\u001b[39mkwargs,\n\u001b[1;32m  11500\u001b[0m ):\n\u001b[0;32m> 11501\u001b[0m     \u001b[38;5;28;01mreturn\u001b[39;00m \u001b[38;5;28;43mself\u001b[39;49m\u001b[38;5;241;43m.\u001b[39;49m\u001b[43m_min_count_stat_function\u001b[49m\u001b[43m(\u001b[49m\n\u001b[1;32m  11502\u001b[0m \u001b[43m        \u001b[49m\u001b[38;5;124;43m\"\u001b[39;49m\u001b[38;5;124;43msum\u001b[39;49m\u001b[38;5;124;43m\"\u001b[39;49m\u001b[43m,\u001b[49m\u001b[43m \u001b[49m\u001b[43mnanops\u001b[49m\u001b[38;5;241;43m.\u001b[39;49m\u001b[43mnansum\u001b[49m\u001b[43m,\u001b[49m\u001b[43m \u001b[49m\u001b[43maxis\u001b[49m\u001b[43m,\u001b[49m\u001b[43m \u001b[49m\u001b[43mskipna\u001b[49m\u001b[43m,\u001b[49m\u001b[43m \u001b[49m\u001b[43mlevel\u001b[49m\u001b[43m,\u001b[49m\u001b[43m \u001b[49m\u001b[43mnumeric_only\u001b[49m\u001b[43m,\u001b[49m\u001b[43m \u001b[49m\u001b[43mmin_count\u001b[49m\u001b[43m,\u001b[49m\u001b[43m \u001b[49m\u001b[38;5;241;43m*\u001b[39;49m\u001b[38;5;241;43m*\u001b[39;49m\u001b[43mkwargs\u001b[49m\n\u001b[1;32m  11503\u001b[0m \u001b[43m    \u001b[49m\u001b[43m)\u001b[49m\n",
      "File \u001b[0;32m~/Documents/Anaconda/ENTER/lib/python3.10/site-packages/pandas/core/generic.py:11483\u001b[0m, in \u001b[0;36mNDFrame._min_count_stat_function\u001b[0;34m(self, name, func, axis, skipna, level, numeric_only, min_count, **kwargs)\u001b[0m\n\u001b[1;32m  11467\u001b[0m     warnings\u001b[38;5;241m.\u001b[39mwarn(\n\u001b[1;32m  11468\u001b[0m         \u001b[38;5;124m\"\u001b[39m\u001b[38;5;124mUsing the level keyword in DataFrame and Series aggregations is \u001b[39m\u001b[38;5;124m\"\u001b[39m\n\u001b[1;32m  11469\u001b[0m         \u001b[38;5;124m\"\u001b[39m\u001b[38;5;124mdeprecated and will be removed in a future version. Use groupby \u001b[39m\u001b[38;5;124m\"\u001b[39m\n\u001b[0;32m   (...)\u001b[0m\n\u001b[1;32m  11472\u001b[0m         stacklevel\u001b[38;5;241m=\u001b[39mfind_stack_level(),\n\u001b[1;32m  11473\u001b[0m     )\n\u001b[1;32m  11474\u001b[0m     \u001b[38;5;28;01mreturn\u001b[39;00m \u001b[38;5;28mself\u001b[39m\u001b[38;5;241m.\u001b[39m_agg_by_level(\n\u001b[1;32m  11475\u001b[0m         name,\n\u001b[1;32m  11476\u001b[0m         axis\u001b[38;5;241m=\u001b[39maxis,\n\u001b[0;32m   (...)\u001b[0m\n\u001b[1;32m  11480\u001b[0m         numeric_only\u001b[38;5;241m=\u001b[39mnumeric_only,\n\u001b[1;32m  11481\u001b[0m     )\n\u001b[0;32m> 11483\u001b[0m \u001b[38;5;28;01mreturn\u001b[39;00m \u001b[38;5;28;43mself\u001b[39;49m\u001b[38;5;241;43m.\u001b[39;49m\u001b[43m_reduce\u001b[49m\u001b[43m(\u001b[49m\n\u001b[1;32m  11484\u001b[0m \u001b[43m    \u001b[49m\u001b[43mfunc\u001b[49m\u001b[43m,\u001b[49m\n\u001b[1;32m  11485\u001b[0m \u001b[43m    \u001b[49m\u001b[43mname\u001b[49m\u001b[38;5;241;43m=\u001b[39;49m\u001b[43mname\u001b[49m\u001b[43m,\u001b[49m\n\u001b[1;32m  11486\u001b[0m \u001b[43m    \u001b[49m\u001b[43maxis\u001b[49m\u001b[38;5;241;43m=\u001b[39;49m\u001b[43maxis\u001b[49m\u001b[43m,\u001b[49m\n\u001b[1;32m  11487\u001b[0m \u001b[43m    \u001b[49m\u001b[43mskipna\u001b[49m\u001b[38;5;241;43m=\u001b[39;49m\u001b[43mskipna\u001b[49m\u001b[43m,\u001b[49m\n\u001b[1;32m  11488\u001b[0m \u001b[43m    \u001b[49m\u001b[43mnumeric_only\u001b[49m\u001b[38;5;241;43m=\u001b[39;49m\u001b[43mnumeric_only\u001b[49m\u001b[43m,\u001b[49m\n\u001b[1;32m  11489\u001b[0m \u001b[43m    \u001b[49m\u001b[43mmin_count\u001b[49m\u001b[38;5;241;43m=\u001b[39;49m\u001b[43mmin_count\u001b[49m\u001b[43m,\u001b[49m\n\u001b[1;32m  11490\u001b[0m \u001b[43m\u001b[49m\u001b[43m)\u001b[49m\n",
      "File \u001b[0;32m~/Documents/Anaconda/ENTER/lib/python3.10/site-packages/pandas/core/series.py:4816\u001b[0m, in \u001b[0;36mSeries._reduce\u001b[0;34m(self, op, name, axis, skipna, numeric_only, filter_type, **kwds)\u001b[0m\n\u001b[1;32m   4812\u001b[0m     \u001b[38;5;28;01mraise\u001b[39;00m \u001b[38;5;167;01mNotImplementedError\u001b[39;00m(\n\u001b[1;32m   4813\u001b[0m         \u001b[38;5;124mf\u001b[39m\u001b[38;5;124m\"\u001b[39m\u001b[38;5;124mSeries.\u001b[39m\u001b[38;5;132;01m{\u001b[39;00mname\u001b[38;5;132;01m}\u001b[39;00m\u001b[38;5;124m does not implement \u001b[39m\u001b[38;5;132;01m{\u001b[39;00mkwd_name\u001b[38;5;132;01m}\u001b[39;00m\u001b[38;5;124m.\u001b[39m\u001b[38;5;124m\"\u001b[39m\n\u001b[1;32m   4814\u001b[0m     )\n\u001b[1;32m   4815\u001b[0m \u001b[38;5;28;01mwith\u001b[39;00m np\u001b[38;5;241m.\u001b[39merrstate(\u001b[38;5;28mall\u001b[39m\u001b[38;5;241m=\u001b[39m\u001b[38;5;124m\"\u001b[39m\u001b[38;5;124mignore\u001b[39m\u001b[38;5;124m\"\u001b[39m):\n\u001b[0;32m-> 4816\u001b[0m     \u001b[38;5;28;01mreturn\u001b[39;00m \u001b[43mop\u001b[49m\u001b[43m(\u001b[49m\u001b[43mdelegate\u001b[49m\u001b[43m,\u001b[49m\u001b[43m \u001b[49m\u001b[43mskipna\u001b[49m\u001b[38;5;241;43m=\u001b[39;49m\u001b[43mskipna\u001b[49m\u001b[43m,\u001b[49m\u001b[43m \u001b[49m\u001b[38;5;241;43m*\u001b[39;49m\u001b[38;5;241;43m*\u001b[39;49m\u001b[43mkwds\u001b[49m\u001b[43m)\u001b[49m\n",
      "File \u001b[0;32m~/Documents/Anaconda/ENTER/lib/python3.10/site-packages/pandas/core/nanops.py:93\u001b[0m, in \u001b[0;36mdisallow.__call__.<locals>._f\u001b[0;34m(*args, **kwargs)\u001b[0m\n\u001b[1;32m     91\u001b[0m \u001b[38;5;28;01mtry\u001b[39;00m:\n\u001b[1;32m     92\u001b[0m     \u001b[38;5;28;01mwith\u001b[39;00m np\u001b[38;5;241m.\u001b[39merrstate(invalid\u001b[38;5;241m=\u001b[39m\u001b[38;5;124m\"\u001b[39m\u001b[38;5;124mignore\u001b[39m\u001b[38;5;124m\"\u001b[39m):\n\u001b[0;32m---> 93\u001b[0m         \u001b[38;5;28;01mreturn\u001b[39;00m \u001b[43mf\u001b[49m\u001b[43m(\u001b[49m\u001b[38;5;241;43m*\u001b[39;49m\u001b[43margs\u001b[49m\u001b[43m,\u001b[49m\u001b[43m \u001b[49m\u001b[38;5;241;43m*\u001b[39;49m\u001b[38;5;241;43m*\u001b[39;49m\u001b[43mkwargs\u001b[49m\u001b[43m)\u001b[49m\n\u001b[1;32m     94\u001b[0m \u001b[38;5;28;01mexcept\u001b[39;00m \u001b[38;5;167;01mValueError\u001b[39;00m \u001b[38;5;28;01mas\u001b[39;00m e:\n\u001b[1;32m     95\u001b[0m     \u001b[38;5;66;03m# we want to transform an object array\u001b[39;00m\n\u001b[1;32m     96\u001b[0m     \u001b[38;5;66;03m# ValueError message to the more typical TypeError\u001b[39;00m\n\u001b[1;32m     97\u001b[0m     \u001b[38;5;66;03m# e.g. this is normally a disallowed function on\u001b[39;00m\n\u001b[1;32m     98\u001b[0m     \u001b[38;5;66;03m# object arrays that contain strings\u001b[39;00m\n\u001b[1;32m     99\u001b[0m     \u001b[38;5;28;01mif\u001b[39;00m is_object_dtype(args[\u001b[38;5;241m0\u001b[39m]):\n",
      "File \u001b[0;32m~/Documents/Anaconda/ENTER/lib/python3.10/site-packages/pandas/core/nanops.py:418\u001b[0m, in \u001b[0;36m_datetimelike_compat.<locals>.new_func\u001b[0;34m(values, axis, skipna, mask, **kwargs)\u001b[0m\n\u001b[1;32m    415\u001b[0m \u001b[38;5;28;01mif\u001b[39;00m datetimelike \u001b[38;5;129;01mand\u001b[39;00m mask \u001b[38;5;129;01mis\u001b[39;00m \u001b[38;5;28;01mNone\u001b[39;00m:\n\u001b[1;32m    416\u001b[0m     mask \u001b[38;5;241m=\u001b[39m isna(values)\n\u001b[0;32m--> 418\u001b[0m result \u001b[38;5;241m=\u001b[39m \u001b[43mfunc\u001b[49m\u001b[43m(\u001b[49m\u001b[43mvalues\u001b[49m\u001b[43m,\u001b[49m\u001b[43m \u001b[49m\u001b[43maxis\u001b[49m\u001b[38;5;241;43m=\u001b[39;49m\u001b[43maxis\u001b[49m\u001b[43m,\u001b[49m\u001b[43m \u001b[49m\u001b[43mskipna\u001b[49m\u001b[38;5;241;43m=\u001b[39;49m\u001b[43mskipna\u001b[49m\u001b[43m,\u001b[49m\u001b[43m \u001b[49m\u001b[43mmask\u001b[49m\u001b[38;5;241;43m=\u001b[39;49m\u001b[43mmask\u001b[49m\u001b[43m,\u001b[49m\u001b[43m \u001b[49m\u001b[38;5;241;43m*\u001b[39;49m\u001b[38;5;241;43m*\u001b[39;49m\u001b[43mkwargs\u001b[49m\u001b[43m)\u001b[49m\n\u001b[1;32m    420\u001b[0m \u001b[38;5;28;01mif\u001b[39;00m datetimelike:\n\u001b[1;32m    421\u001b[0m     result \u001b[38;5;241m=\u001b[39m _wrap_results(result, orig_values\u001b[38;5;241m.\u001b[39mdtype, fill_value\u001b[38;5;241m=\u001b[39miNaT)\n",
      "File \u001b[0;32m~/Documents/Anaconda/ENTER/lib/python3.10/site-packages/pandas/core/nanops.py:491\u001b[0m, in \u001b[0;36mmaybe_operate_rowwise.<locals>.newfunc\u001b[0;34m(values, axis, **kwargs)\u001b[0m\n\u001b[1;32m    488\u001b[0m         results \u001b[38;5;241m=\u001b[39m [func(x, \u001b[38;5;241m*\u001b[39m\u001b[38;5;241m*\u001b[39mkwargs) \u001b[38;5;28;01mfor\u001b[39;00m x \u001b[38;5;129;01min\u001b[39;00m arrs]\n\u001b[1;32m    489\u001b[0m     \u001b[38;5;28;01mreturn\u001b[39;00m np\u001b[38;5;241m.\u001b[39marray(results)\n\u001b[0;32m--> 491\u001b[0m \u001b[38;5;28;01mreturn\u001b[39;00m \u001b[43mfunc\u001b[49m\u001b[43m(\u001b[49m\u001b[43mvalues\u001b[49m\u001b[43m,\u001b[49m\u001b[43m \u001b[49m\u001b[43maxis\u001b[49m\u001b[38;5;241;43m=\u001b[39;49m\u001b[43maxis\u001b[49m\u001b[43m,\u001b[49m\u001b[43m \u001b[49m\u001b[38;5;241;43m*\u001b[39;49m\u001b[38;5;241;43m*\u001b[39;49m\u001b[43mkwargs\u001b[49m\u001b[43m)\u001b[49m\n",
      "File \u001b[0;32m~/Documents/Anaconda/ENTER/lib/python3.10/site-packages/pandas/core/nanops.py:631\u001b[0m, in \u001b[0;36mnansum\u001b[0;34m(values, axis, skipna, min_count, mask)\u001b[0m\n\u001b[1;32m    628\u001b[0m \u001b[38;5;28;01melif\u001b[39;00m is_timedelta64_dtype(dtype):\n\u001b[1;32m    629\u001b[0m     dtype_sum \u001b[38;5;241m=\u001b[39m np\u001b[38;5;241m.\u001b[39mdtype(np\u001b[38;5;241m.\u001b[39mfloat64)\n\u001b[0;32m--> 631\u001b[0m the_sum \u001b[38;5;241m=\u001b[39m \u001b[43mvalues\u001b[49m\u001b[38;5;241;43m.\u001b[39;49m\u001b[43msum\u001b[49m\u001b[43m(\u001b[49m\u001b[43maxis\u001b[49m\u001b[43m,\u001b[49m\u001b[43m \u001b[49m\u001b[43mdtype\u001b[49m\u001b[38;5;241;43m=\u001b[39;49m\u001b[43mdtype_sum\u001b[49m\u001b[43m)\u001b[49m\n\u001b[1;32m    632\u001b[0m the_sum \u001b[38;5;241m=\u001b[39m _maybe_null_out(the_sum, axis, mask, values\u001b[38;5;241m.\u001b[39mshape, min_count\u001b[38;5;241m=\u001b[39mmin_count)\n\u001b[1;32m    634\u001b[0m \u001b[38;5;28;01mreturn\u001b[39;00m the_sum\n",
      "File \u001b[0;32m~/Documents/Anaconda/ENTER/lib/python3.10/site-packages/numpy/core/_methods.py:48\u001b[0m, in \u001b[0;36m_sum\u001b[0;34m(a, axis, dtype, out, keepdims, initial, where)\u001b[0m\n\u001b[1;32m     46\u001b[0m \u001b[38;5;28;01mdef\u001b[39;00m \u001b[38;5;21m_sum\u001b[39m(a, axis\u001b[38;5;241m=\u001b[39m\u001b[38;5;28;01mNone\u001b[39;00m, dtype\u001b[38;5;241m=\u001b[39m\u001b[38;5;28;01mNone\u001b[39;00m, out\u001b[38;5;241m=\u001b[39m\u001b[38;5;28;01mNone\u001b[39;00m, keepdims\u001b[38;5;241m=\u001b[39m\u001b[38;5;28;01mFalse\u001b[39;00m,\n\u001b[1;32m     47\u001b[0m          initial\u001b[38;5;241m=\u001b[39m_NoValue, where\u001b[38;5;241m=\u001b[39m\u001b[38;5;28;01mTrue\u001b[39;00m):\n\u001b[0;32m---> 48\u001b[0m     \u001b[38;5;28;01mreturn\u001b[39;00m \u001b[43mumr_sum\u001b[49m\u001b[43m(\u001b[49m\u001b[43ma\u001b[49m\u001b[43m,\u001b[49m\u001b[43m \u001b[49m\u001b[43maxis\u001b[49m\u001b[43m,\u001b[49m\u001b[43m \u001b[49m\u001b[43mdtype\u001b[49m\u001b[43m,\u001b[49m\u001b[43m \u001b[49m\u001b[43mout\u001b[49m\u001b[43m,\u001b[49m\u001b[43m \u001b[49m\u001b[43mkeepdims\u001b[49m\u001b[43m,\u001b[49m\u001b[43m \u001b[49m\u001b[43minitial\u001b[49m\u001b[43m,\u001b[49m\u001b[43m \u001b[49m\u001b[43mwhere\u001b[49m\u001b[43m)\u001b[49m\n",
      "\u001b[0;31mTypeError\u001b[0m: unsupported operand type(s) for +: 'int' and 'str'"
     ]
    }
   ],
   "source": [
    "# And what if we want to get the sum?\n",
    "pd.Series([1, 2, 3, \"Deyan Sirakov\"]).sum()"
   ]
  },
  {
   "cell_type": "markdown",
   "id": "92d24cc8",
   "metadata": {},
   "source": [
    "**BOOM** - Exception. So yea, it is really good for us to have the same data types."
   ]
  },
  {
   "cell_type": "markdown",
   "id": "04c13bc5",
   "metadata": {},
   "source": [
    "### 3. Data Sources"
   ]
  },
  {
   "cell_type": "markdown",
   "id": "07b70ca9",
   "metadata": {},
   "source": [
    "`Data Set` - It is a **set** of data, not a table!! That is why we never say `Data table` (in this context). `All rows are different.`"
   ]
  },
  {
   "cell_type": "markdown",
   "id": "3a58ff85",
   "metadata": {},
   "source": [
    "**Unstructured data** - Data, that doesn't have a model (schema/metadata). For example: Images, plain text, audio, web pages"
   ]
  },
  {
   "cell_type": "markdown",
   "id": "a75f2075",
   "metadata": {},
   "source": [
    "Atributes, Features - Variables: *Easy understanding*\n"
   ]
  },
  {
   "cell_type": "markdown",
   "id": "9dee5c83",
   "metadata": {},
   "source": [
    "CSV - Column Separated Values"
   ]
  },
  {
   "cell_type": "code",
   "execution_count": 46,
   "id": "96c03ce7",
   "metadata": {},
   "outputs": [
    {
     "data": {
      "text/html": [
       "<div>\n",
       "<style scoped>\n",
       "    .dataframe tbody tr th:only-of-type {\n",
       "        vertical-align: middle;\n",
       "    }\n",
       "\n",
       "    .dataframe tbody tr th {\n",
       "        vertical-align: top;\n",
       "    }\n",
       "\n",
       "    .dataframe thead th {\n",
       "        text-align: right;\n",
       "    }\n",
       "</style>\n",
       "<table border=\"1\" class=\"dataframe\">\n",
       "  <thead>\n",
       "    <tr style=\"text-align: right;\">\n",
       "      <th></th>\n",
       "      <th>Miles from Home</th>\n",
       "      <th>% of Accidents</th>\n",
       "    </tr>\n",
       "  </thead>\n",
       "  <tbody>\n",
       "    <tr>\n",
       "      <th>0</th>\n",
       "      <td>less than 1</td>\n",
       "      <td>23</td>\n",
       "    </tr>\n",
       "    <tr>\n",
       "      <th>1</th>\n",
       "      <td>1 to 5</td>\n",
       "      <td>29</td>\n",
       "    </tr>\n",
       "    <tr>\n",
       "      <th>2</th>\n",
       "      <td>6 to 10</td>\n",
       "      <td>17</td>\n",
       "    </tr>\n",
       "    <tr>\n",
       "      <th>3</th>\n",
       "      <td>11 to 15</td>\n",
       "      <td>8</td>\n",
       "    </tr>\n",
       "    <tr>\n",
       "      <th>4</th>\n",
       "      <td>16 to 20</td>\n",
       "      <td>6</td>\n",
       "    </tr>\n",
       "    <tr>\n",
       "      <th>5</th>\n",
       "      <td>over 20</td>\n",
       "      <td>17</td>\n",
       "    </tr>\n",
       "  </tbody>\n",
       "</table>\n",
       "</div>"
      ],
      "text/plain": [
       "  Miles from Home  % of Accidents\n",
       "0     less than 1              23\n",
       "1          1 to 5              29\n",
       "2         6 to 10              17\n",
       "3        11 to 15               8\n",
       "4        16 to 20               6\n",
       "5         over 20              17"
      ]
     },
     "execution_count": 46,
     "metadata": {},
     "output_type": "execute_result"
    }
   ],
   "source": [
    "# Let's read our first data set in Python\n",
    "accidents_data = pd.read_csv(\"accidents.csv\")\n",
    "\n",
    "# Visualize it\n",
    "accidents_data"
   ]
  },
  {
   "cell_type": "code",
   "execution_count": 47,
   "id": "402f209b",
   "metadata": {},
   "outputs": [
    {
     "data": {
      "text/plain": [
       "(6, 2)"
      ]
     },
     "execution_count": 47,
     "metadata": {},
     "output_type": "execute_result"
    }
   ],
   "source": [
    "# We could get the shape\n",
    "accidents_data.shape"
   ]
  },
  {
   "cell_type": "code",
   "execution_count": 48,
   "id": "be373ab9",
   "metadata": {},
   "outputs": [
    {
     "data": {
      "text/plain": [
       "Index(['Miles from Home', '% of Accidents'], dtype='object')"
      ]
     },
     "execution_count": 48,
     "metadata": {},
     "output_type": "execute_result"
    }
   ],
   "source": [
    "# Alternatively, we could get the columns\n",
    "accidents_data.columns"
   ]
  },
  {
   "cell_type": "code",
   "execution_count": 49,
   "id": "ec666a94",
   "metadata": {},
   "outputs": [
    {
     "data": {
      "text/plain": [
       "0    less than 1\n",
       "1         1 to 5\n",
       "2        6 to 10\n",
       "3       11 to 15\n",
       "4       16 to 20\n",
       "5        over 20\n",
       "Name: Miles from Home, dtype: object"
      ]
     },
     "execution_count": 49,
     "metadata": {},
     "output_type": "execute_result"
    }
   ],
   "source": [
    "# We could also check by column\n",
    "accidents_data[\"Miles from Home\"]"
   ]
  },
  {
   "cell_type": "markdown",
   "id": "113aa7f5",
   "metadata": {},
   "source": [
    "The `column` of the `DataFrame` becomes `Series`."
   ]
  },
  {
   "cell_type": "code",
   "execution_count": 52,
   "id": "17c242cd",
   "metadata": {},
   "outputs": [
    {
     "name": "stdout",
     "output_type": "stream",
     "text": [
      "-----------------\n",
      "Type of DataFrame: \t <class 'pandas.core.frame.DataFrame'>\n",
      "Type of Column: \t <class 'pandas.core.series.Series'>\n"
     ]
    }
   ],
   "source": [
    "print(\"-----------------\\nType of DataFrame: \\t\", type(accidents_data))\n",
    "print(\"Type of Column: \\t\", type(accidents_data[\"Miles from Home\"]))"
   ]
  },
  {
   "cell_type": "code",
   "execution_count": 53,
   "id": "61ebc770",
   "metadata": {},
   "outputs": [
    {
     "data": {
      "text/plain": [
       "RangeIndex(start=0, stop=6, step=1)"
      ]
     },
     "execution_count": 53,
     "metadata": {},
     "output_type": "execute_result"
    }
   ],
   "source": [
    "# We could also get the index\n",
    "accidents_data.index"
   ]
  },
  {
   "cell_type": "markdown",
   "id": "45069c62",
   "metadata": {},
   "source": [
    "df - Data Frame (Don't use it)"
   ]
  },
  {
   "cell_type": "markdown",
   "id": "fdb37c59",
   "metadata": {},
   "source": [
    "We could also visualize it using `plt`"
   ]
  },
  {
   "cell_type": "code",
   "execution_count": 56,
   "id": "f9fb54c3",
   "metadata": {},
   "outputs": [
    {
     "data": {
      "image/png": "[encoded data removed]",
      "text/plain": [
       "<Figure size 640x480 with 1 Axes>"
      ]
     },
     "metadata": {},
     "output_type": "display_data"
    }
   ],
   "source": [
    "plt.barh(accidents_data[\"Miles from Home\"], accidents_data[\"% of Accidents\"])\n",
    "\n",
    "plt.xlabel(\"% of accidents\")\n",
    "plt.show()"
   ]
  },
  {
   "cell_type": "code",
   "execution_count": 61,
   "id": "4fe16a4b",
   "metadata": {},
   "outputs": [
    {
     "data": {
      "text/html": [
       "<div>\n",
       "<style scoped>\n",
       "    .dataframe tbody tr th:only-of-type {\n",
       "        vertical-align: middle;\n",
       "    }\n",
       "\n",
       "    .dataframe tbody tr th {\n",
       "        vertical-align: top;\n",
       "    }\n",
       "\n",
       "    .dataframe thead th {\n",
       "        text-align: right;\n",
       "    }\n",
       "</style>\n",
       "<table border=\"1\" class=\"dataframe\">\n",
       "  <thead>\n",
       "    <tr style=\"text-align: right;\">\n",
       "      <th></th>\n",
       "      <th>VendorID</th>\n",
       "      <th>lpep_pickup_datetime</th>\n",
       "      <th>Lpep_dropoff_datetime</th>\n",
       "      <th>Store_and_fwd_flag</th>\n",
       "      <th>RateCodeID</th>\n",
       "      <th>Pickup_longitude</th>\n",
       "      <th>Pickup_latitude</th>\n",
       "      <th>Dropoff_longitude</th>\n",
       "      <th>Dropoff_latitude</th>\n",
       "      <th>Passenger_count</th>\n",
       "      <th>...</th>\n",
       "      <th>Fare_amount</th>\n",
       "      <th>Extra</th>\n",
       "      <th>MTA_tax</th>\n",
       "      <th>Tip_amount</th>\n",
       "      <th>Tolls_amount</th>\n",
       "      <th>Ehail_fee</th>\n",
       "      <th>improvement_surcharge</th>\n",
       "      <th>Total_amount</th>\n",
       "      <th>Payment_type</th>\n",
       "      <th>Trip_type</th>\n",
       "    </tr>\n",
       "  </thead>\n",
       "  <tbody>\n",
       "    <tr>\n",
       "      <th>0</th>\n",
       "      <td>2</td>\n",
       "      <td>2015-09-01 00:02:34</td>\n",
       "      <td>2015-09-01 00:02:38</td>\n",
       "      <td>N</td>\n",
       "      <td>5</td>\n",
       "      <td>-73.979485</td>\n",
       "      <td>40.684956</td>\n",
       "      <td>-73.979431</td>\n",
       "      <td>40.685020</td>\n",
       "      <td>1</td>\n",
       "      <td>...</td>\n",
       "      <td>7.8</td>\n",
       "      <td>0.0</td>\n",
       "      <td>0.0</td>\n",
       "      <td>1.95</td>\n",
       "      <td>0.0</td>\n",
       "      <td>NaN</td>\n",
       "      <td>0.0</td>\n",
       "      <td>9.75</td>\n",
       "      <td>1</td>\n",
       "      <td>2</td>\n",
       "    </tr>\n",
       "    <tr>\n",
       "      <th>1</th>\n",
       "      <td>2</td>\n",
       "      <td>2015-09-01 00:04:20</td>\n",
       "      <td>2015-09-01 00:04:24</td>\n",
       "      <td>N</td>\n",
       "      <td>5</td>\n",
       "      <td>-74.010796</td>\n",
       "      <td>40.912216</td>\n",
       "      <td>-74.010780</td>\n",
       "      <td>40.912212</td>\n",
       "      <td>1</td>\n",
       "      <td>...</td>\n",
       "      <td>45.0</td>\n",
       "      <td>0.0</td>\n",
       "      <td>0.0</td>\n",
       "      <td>0.00</td>\n",
       "      <td>0.0</td>\n",
       "      <td>NaN</td>\n",
       "      <td>0.0</td>\n",
       "      <td>45.00</td>\n",
       "      <td>1</td>\n",
       "      <td>2</td>\n",
       "    </tr>\n",
       "    <tr>\n",
       "      <th>2</th>\n",
       "      <td>2</td>\n",
       "      <td>2015-09-01 00:01:50</td>\n",
       "      <td>2015-09-01 00:04:24</td>\n",
       "      <td>N</td>\n",
       "      <td>1</td>\n",
       "      <td>-73.921410</td>\n",
       "      <td>40.766708</td>\n",
       "      <td>-73.914413</td>\n",
       "      <td>40.764687</td>\n",
       "      <td>1</td>\n",
       "      <td>...</td>\n",
       "      <td>4.0</td>\n",
       "      <td>0.5</td>\n",
       "      <td>0.5</td>\n",
       "      <td>0.50</td>\n",
       "      <td>0.0</td>\n",
       "      <td>NaN</td>\n",
       "      <td>0.3</td>\n",
       "      <td>5.80</td>\n",
       "      <td>1</td>\n",
       "      <td>1</td>\n",
       "    </tr>\n",
       "    <tr>\n",
       "      <th>3</th>\n",
       "      <td>2</td>\n",
       "      <td>2015-09-01 00:02:36</td>\n",
       "      <td>2015-09-01 00:06:42</td>\n",
       "      <td>N</td>\n",
       "      <td>1</td>\n",
       "      <td>-73.921387</td>\n",
       "      <td>40.766678</td>\n",
       "      <td>-73.931427</td>\n",
       "      <td>40.771584</td>\n",
       "      <td>1</td>\n",
       "      <td>...</td>\n",
       "      <td>5.0</td>\n",
       "      <td>0.5</td>\n",
       "      <td>0.5</td>\n",
       "      <td>0.00</td>\n",
       "      <td>0.0</td>\n",
       "      <td>NaN</td>\n",
       "      <td>0.3</td>\n",
       "      <td>6.30</td>\n",
       "      <td>2</td>\n",
       "      <td>1</td>\n",
       "    </tr>\n",
       "    <tr>\n",
       "      <th>4</th>\n",
       "      <td>2</td>\n",
       "      <td>2015-09-01 00:00:14</td>\n",
       "      <td>2015-09-01 00:04:20</td>\n",
       "      <td>N</td>\n",
       "      <td>1</td>\n",
       "      <td>-73.955482</td>\n",
       "      <td>40.714046</td>\n",
       "      <td>-73.944412</td>\n",
       "      <td>40.714729</td>\n",
       "      <td>1</td>\n",
       "      <td>...</td>\n",
       "      <td>5.0</td>\n",
       "      <td>0.5</td>\n",
       "      <td>0.5</td>\n",
       "      <td>0.00</td>\n",
       "      <td>0.0</td>\n",
       "      <td>NaN</td>\n",
       "      <td>0.3</td>\n",
       "      <td>6.30</td>\n",
       "      <td>2</td>\n",
       "      <td>1</td>\n",
       "    </tr>\n",
       "    <tr>\n",
       "      <th>...</th>\n",
       "      <td>...</td>\n",
       "      <td>...</td>\n",
       "      <td>...</td>\n",
       "      <td>...</td>\n",
       "      <td>...</td>\n",
       "      <td>...</td>\n",
       "      <td>...</td>\n",
       "      <td>...</td>\n",
       "      <td>...</td>\n",
       "      <td>...</td>\n",
       "      <td>...</td>\n",
       "      <td>...</td>\n",
       "      <td>...</td>\n",
       "      <td>...</td>\n",
       "      <td>...</td>\n",
       "      <td>...</td>\n",
       "      <td>...</td>\n",
       "      <td>...</td>\n",
       "      <td>...</td>\n",
       "      <td>...</td>\n",
       "      <td>...</td>\n",
       "    </tr>\n",
       "    <tr>\n",
       "      <th>65530</th>\n",
       "      <td>2</td>\n",
       "      <td>2015-09-02 16:51:59</td>\n",
       "      <td>2015-09-02 17:04:00</td>\n",
       "      <td>N</td>\n",
       "      <td>1</td>\n",
       "      <td>-73.829605</td>\n",
       "      <td>40.759716</td>\n",
       "      <td>-73.832214</td>\n",
       "      <td>40.751514</td>\n",
       "      <td>1</td>\n",
       "      <td>...</td>\n",
       "      <td>9.0</td>\n",
       "      <td>1.0</td>\n",
       "      <td>0.5</td>\n",
       "      <td>0.00</td>\n",
       "      <td>0.0</td>\n",
       "      <td>NaN</td>\n",
       "      <td>0.3</td>\n",
       "      <td>10.80</td>\n",
       "      <td>2</td>\n",
       "      <td>1</td>\n",
       "    </tr>\n",
       "    <tr>\n",
       "      <th>65531</th>\n",
       "      <td>2</td>\n",
       "      <td>2015-09-02 16:53:51</td>\n",
       "      <td>2015-09-02 17:04:32</td>\n",
       "      <td>N</td>\n",
       "      <td>1</td>\n",
       "      <td>-73.962112</td>\n",
       "      <td>40.805710</td>\n",
       "      <td>-73.984970</td>\n",
       "      <td>40.769550</td>\n",
       "      <td>1</td>\n",
       "      <td>...</td>\n",
       "      <td>10.5</td>\n",
       "      <td>1.0</td>\n",
       "      <td>0.5</td>\n",
       "      <td>2.46</td>\n",
       "      <td>0.0</td>\n",
       "      <td>NaN</td>\n",
       "      <td>0.3</td>\n",
       "      <td>14.76</td>\n",
       "      <td>1</td>\n",
       "      <td>1</td>\n",
       "    </tr>\n",
       "    <tr>\n",
       "      <th>65532</th>\n",
       "      <td>2</td>\n",
       "      <td>2015-09-02 16:57:21</td>\n",
       "      <td>2015-09-02 17:05:03</td>\n",
       "      <td>N</td>\n",
       "      <td>1</td>\n",
       "      <td>-73.829941</td>\n",
       "      <td>40.713718</td>\n",
       "      <td>-73.831917</td>\n",
       "      <td>40.702145</td>\n",
       "      <td>1</td>\n",
       "      <td>...</td>\n",
       "      <td>7.0</td>\n",
       "      <td>1.0</td>\n",
       "      <td>0.5</td>\n",
       "      <td>2.20</td>\n",
       "      <td>0.0</td>\n",
       "      <td>NaN</td>\n",
       "      <td>0.3</td>\n",
       "      <td>11.00</td>\n",
       "      <td>1</td>\n",
       "      <td>1</td>\n",
       "    </tr>\n",
       "    <tr>\n",
       "      <th>65533</th>\n",
       "      <td>2</td>\n",
       "      <td>2015-09-02 16:51:42</td>\n",
       "      <td>2015-09-02 17:05:28</td>\n",
       "      <td>N</td>\n",
       "      <td>1</td>\n",
       "      <td>-73.860748</td>\n",
       "      <td>40.832661</td>\n",
       "      <td>-73.845169</td>\n",
       "      <td>40.845306</td>\n",
       "      <td>1</td>\n",
       "      <td>...</td>\n",
       "      <td>10.5</td>\n",
       "      <td>1.0</td>\n",
       "      <td>0.5</td>\n",
       "      <td>2.46</td>\n",
       "      <td>0.0</td>\n",
       "      <td>NaN</td>\n",
       "      <td>0.3</td>\n",
       "      <td>14.76</td>\n",
       "      <td>1</td>\n",
       "      <td>1</td>\n",
       "    </tr>\n",
       "    <tr>\n",
       "      <th>65534</th>\n",
       "      <td>2</td>\n",
       "      <td>2015-09-02 16:40:36</td>\n",
       "      <td>2015-09-02 16:48:20</td>\n",
       "      <td>N</td>\n",
       "      <td>1</td>\n",
       "      <td>-73.941887</td>\n",
       "      <td>40.822948</td>\n",
       "      <td>-73.937180</td>\n",
       "      <td>40.804462</td>\n",
       "      <td>1</td>\n",
       "      <td>...</td>\n",
       "      <td>8.0</td>\n",
       "      <td>1.0</td>\n",
       "      <td>0.5</td>\n",
       "      <td>0.00</td>\n",
       "      <td>0.0</td>\n",
       "      <td>NaN</td>\n",
       "      <td>0.3</td>\n",
       "      <td>9.80</td>\n",
       "      <td>2</td>\n",
       "      <td>1</td>\n",
       "    </tr>\n",
       "  </tbody>\n",
       "</table>\n",
       "<p>65535 rows × 21 columns</p>\n",
       "</div>"
      ],
      "text/plain": [
       "       VendorID lpep_pickup_datetime Lpep_dropoff_datetime Store_and_fwd_flag  \\\n",
       "0             2  2015-09-01 00:02:34   2015-09-01 00:02:38                  N   \n",
       "1             2  2015-09-01 00:04:20   2015-09-01 00:04:24                  N   \n",
       "2             2  2015-09-01 00:01:50   2015-09-01 00:04:24                  N   \n",
       "3             2  2015-09-01 00:02:36   2015-09-01 00:06:42                  N   \n",
       "4             2  2015-09-01 00:00:14   2015-09-01 00:04:20                  N   \n",
       "...         ...                  ...                   ...                ...   \n",
       "65530         2  2015-09-02 16:51:59   2015-09-02 17:04:00                  N   \n",
       "65531         2  2015-09-02 16:53:51   2015-09-02 17:04:32                  N   \n",
       "65532         2  2015-09-02 16:57:21   2015-09-02 17:05:03                  N   \n",
       "65533         2  2015-09-02 16:51:42   2015-09-02 17:05:28                  N   \n",
       "65534         2  2015-09-02 16:40:36   2015-09-02 16:48:20                  N   \n",
       "\n",
       "       RateCodeID  Pickup_longitude  Pickup_latitude  Dropoff_longitude  \\\n",
       "0               5        -73.979485        40.684956         -73.979431   \n",
       "1               5        -74.010796        40.912216         -74.010780   \n",
       "2               1        -73.921410        40.766708         -73.914413   \n",
       "3               1        -73.921387        40.766678         -73.931427   \n",
       "4               1        -73.955482        40.714046         -73.944412   \n",
       "...           ...               ...              ...                ...   \n",
       "65530           1        -73.829605        40.759716         -73.832214   \n",
       "65531           1        -73.962112        40.805710         -73.984970   \n",
       "65532           1        -73.829941        40.713718         -73.831917   \n",
       "65533           1        -73.860748        40.832661         -73.845169   \n",
       "65534           1        -73.941887        40.822948         -73.937180   \n",
       "\n",
       "       Dropoff_latitude  Passenger_count  ...  Fare_amount  Extra  MTA_tax  \\\n",
       "0             40.685020                1  ...          7.8    0.0      0.0   \n",
       "1             40.912212                1  ...         45.0    0.0      0.0   \n",
       "2             40.764687                1  ...          4.0    0.5      0.5   \n",
       "3             40.771584                1  ...          5.0    0.5      0.5   \n",
       "4             40.714729                1  ...          5.0    0.5      0.5   \n",
       "...                 ...              ...  ...          ...    ...      ...   \n",
       "65530         40.751514                1  ...          9.0    1.0      0.5   \n",
       "65531         40.769550                1  ...         10.5    1.0      0.5   \n",
       "65532         40.702145                1  ...          7.0    1.0      0.5   \n",
       "65533         40.845306                1  ...         10.5    1.0      0.5   \n",
       "65534         40.804462                1  ...          8.0    1.0      0.5   \n",
       "\n",
       "       Tip_amount  Tolls_amount  Ehail_fee  improvement_surcharge  \\\n",
       "0            1.95           0.0        NaN                    0.0   \n",
       "1            0.00           0.0        NaN                    0.0   \n",
       "2            0.50           0.0        NaN                    0.3   \n",
       "3            0.00           0.0        NaN                    0.3   \n",
       "4            0.00           0.0        NaN                    0.3   \n",
       "...           ...           ...        ...                    ...   \n",
       "65530        0.00           0.0        NaN                    0.3   \n",
       "65531        2.46           0.0        NaN                    0.3   \n",
       "65532        2.20           0.0        NaN                    0.3   \n",
       "65533        2.46           0.0        NaN                    0.3   \n",
       "65534        0.00           0.0        NaN                    0.3   \n",
       "\n",
       "       Total_amount  Payment_type  Trip_type   \n",
       "0              9.75             1           2  \n",
       "1             45.00             1           2  \n",
       "2              5.80             1           1  \n",
       "3              6.30             2           1  \n",
       "4              6.30             2           1  \n",
       "...             ...           ...         ...  \n",
       "65530         10.80             2           1  \n",
       "65531         14.76             1           1  \n",
       "65532         11.00             1           1  \n",
       "65533         14.76             1           1  \n",
       "65534          9.80             2           1  \n",
       "\n",
       "[65535 rows x 21 columns]"
      ]
     },
     "execution_count": 61,
     "metadata": {},
     "output_type": "execute_result"
    }
   ],
   "source": [
    "# We could also read Excel files\n",
    "green_trip_data = pd.read_excel(\"green_tripdata_2015-09.xls\")\n",
    "\n",
    "# Check\n",
    "green_trip_data"
   ]
  },
  {
   "cell_type": "code",
   "execution_count": 62,
   "id": "9f2562c1",
   "metadata": {},
   "outputs": [
    {
     "data": {
      "text/plain": [
       "VendorID                          int64\n",
       "lpep_pickup_datetime     datetime64[ns]\n",
       "Lpep_dropoff_datetime    datetime64[ns]\n",
       "Store_and_fwd_flag               object\n",
       "RateCodeID                        int64\n",
       "Pickup_longitude                float64\n",
       "Pickup_latitude                 float64\n",
       "Dropoff_longitude               float64\n",
       "Dropoff_latitude                float64\n",
       "Passenger_count                   int64\n",
       "Trip_distance                   float64\n",
       "Fare_amount                     float64\n",
       "Extra                           float64\n",
       "MTA_tax                         float64\n",
       "Tip_amount                      float64\n",
       "Tolls_amount                    float64\n",
       "Ehail_fee                       float64\n",
       "improvement_surcharge           float64\n",
       "Total_amount                    float64\n",
       "Payment_type                      int64\n",
       "Trip_type                         int64\n",
       "dtype: object"
      ]
     },
     "execution_count": 62,
     "metadata": {},
     "output_type": "execute_result"
    }
   ],
   "source": [
    "# Check the data types\n",
    "green_trip_data.dtypes"
   ]
  },
  {
   "cell_type": "markdown",
   "id": "8d5d8c52",
   "metadata": {},
   "source": [
    "Let's try making a geographical plot using the data"
   ]
  },
  {
   "cell_type": "code",
   "execution_count": 65,
   "id": "38b1502e",
   "metadata": {},
   "outputs": [],
   "source": [
    "# Prepare\n",
    "green_trip_data_filtered = green_trip_data[\n",
    "    (green_trip_data.Pickup_latitude != 0) &\n",
    "    (green_trip_data.Pickup_longitude != 0)\n",
    "]"
   ]
  },
  {
   "cell_type": "code",
   "execution_count": 66,
   "id": "f0da17e6",
   "metadata": {},
   "outputs": [
    {
     "data": {
      "text/plain": [
       "<matplotlib.collections.PathCollection at 0x7fa7ccd571c0>"
      ]
     },
     "execution_count": 66,
     "metadata": {},
     "output_type": "execute_result"
    },
    {
     "data": {
      "image/png": "[encoded data removed]",
      "text/plain": [
       "<Figure size 640x480 with 1 Axes>"
      ]
     },
     "metadata": {},
     "output_type": "display_data"
    }
   ],
   "source": [
    "# Plot geographically the data\n",
    "plt.scatter(green_trip_data_filtered.Pickup_latitude, green_trip_data_filtered.Pickup_longitude)"
   ]
  },
  {
   "cell_type": "markdown",
   "id": "4a938643",
   "metadata": {},
   "source": [
    "We could see where everything is based on the longitude and latutude data"
   ]
  },
  {
   "cell_type": "code",
   "execution_count": 68,
   "id": "b148f342",
   "metadata": {},
   "outputs": [
    {
     "data": {
      "image/png": "[encoded data removed]",
      "text/plain": [
       "<Figure size 640x480 with 1 Axes>"
      ]
     },
     "metadata": {},
     "output_type": "display_data"
    }
   ],
   "source": [
    "plt.hist(green_trip_data.Total_amount, bins=50)\n",
    "plt.show() # We could remove the bad looking text like this"
   ]
  },
  {
   "cell_type": "code",
   "execution_count": 71,
   "id": "59829fde",
   "metadata": {},
   "outputs": [
    {
     "data": {
      "text/html": [
       "<div>\n",
       "<style scoped>\n",
       "    .dataframe tbody tr th:only-of-type {\n",
       "        vertical-align: middle;\n",
       "    }\n",
       "\n",
       "    .dataframe tbody tr th {\n",
       "        vertical-align: top;\n",
       "    }\n",
       "\n",
       "    .dataframe thead th {\n",
       "        text-align: right;\n",
       "    }\n",
       "</style>\n",
       "<table border=\"1\" class=\"dataframe\">\n",
       "  <thead>\n",
       "    <tr style=\"text-align: right;\">\n",
       "      <th></th>\n",
       "      <th>VendorID</th>\n",
       "      <th>lpep_pickup_datetime</th>\n",
       "      <th>Lpep_dropoff_datetime</th>\n",
       "      <th>Store_and_fwd_flag</th>\n",
       "      <th>RateCodeID</th>\n",
       "      <th>Pickup_longitude</th>\n",
       "      <th>Pickup_latitude</th>\n",
       "      <th>Dropoff_longitude</th>\n",
       "      <th>Dropoff_latitude</th>\n",
       "      <th>Passenger_count</th>\n",
       "      <th>...</th>\n",
       "      <th>Fare_amount</th>\n",
       "      <th>Extra</th>\n",
       "      <th>MTA_tax</th>\n",
       "      <th>Tip_amount</th>\n",
       "      <th>Tolls_amount</th>\n",
       "      <th>Ehail_fee</th>\n",
       "      <th>improvement_surcharge</th>\n",
       "      <th>Total_amount</th>\n",
       "      <th>Payment_type</th>\n",
       "      <th>Trip_type</th>\n",
       "    </tr>\n",
       "  </thead>\n",
       "  <tbody>\n",
       "    <tr>\n",
       "      <th>196</th>\n",
       "      <td>2</td>\n",
       "      <td>2015-09-01 00:11:22</td>\n",
       "      <td>2015-09-01 00:20:26</td>\n",
       "      <td>N</td>\n",
       "      <td>1</td>\n",
       "      <td>-73.949593</td>\n",
       "      <td>40.680508</td>\n",
       "      <td>-73.942253</td>\n",
       "      <td>40.700764</td>\n",
       "      <td>1</td>\n",
       "      <td>...</td>\n",
       "      <td>-2.5</td>\n",
       "      <td>-0.5</td>\n",
       "      <td>-0.5</td>\n",
       "      <td>0.0</td>\n",
       "      <td>0.0</td>\n",
       "      <td>NaN</td>\n",
       "      <td>-0.3</td>\n",
       "      <td>-3.8</td>\n",
       "      <td>3</td>\n",
       "      <td>1</td>\n",
       "    </tr>\n",
       "    <tr>\n",
       "      <th>437</th>\n",
       "      <td>2</td>\n",
       "      <td>2015-09-01 00:31:49</td>\n",
       "      <td>2015-09-01 00:35:08</td>\n",
       "      <td>N</td>\n",
       "      <td>1</td>\n",
       "      <td>-73.903450</td>\n",
       "      <td>40.745419</td>\n",
       "      <td>-73.914360</td>\n",
       "      <td>40.745659</td>\n",
       "      <td>5</td>\n",
       "      <td>...</td>\n",
       "      <td>-4.5</td>\n",
       "      <td>-0.5</td>\n",
       "      <td>-0.5</td>\n",
       "      <td>0.0</td>\n",
       "      <td>0.0</td>\n",
       "      <td>NaN</td>\n",
       "      <td>-0.3</td>\n",
       "      <td>-5.8</td>\n",
       "      <td>4</td>\n",
       "      <td>1</td>\n",
       "    </tr>\n",
       "    <tr>\n",
       "      <th>568</th>\n",
       "      <td>2</td>\n",
       "      <td>2015-09-01 00:43:31</td>\n",
       "      <td>2015-09-01 00:44:41</td>\n",
       "      <td>N</td>\n",
       "      <td>1</td>\n",
       "      <td>-73.844284</td>\n",
       "      <td>40.721066</td>\n",
       "      <td>-73.844727</td>\n",
       "      <td>40.720230</td>\n",
       "      <td>1</td>\n",
       "      <td>...</td>\n",
       "      <td>-3.0</td>\n",
       "      <td>-0.5</td>\n",
       "      <td>-0.5</td>\n",
       "      <td>0.0</td>\n",
       "      <td>0.0</td>\n",
       "      <td>NaN</td>\n",
       "      <td>-0.3</td>\n",
       "      <td>-4.3</td>\n",
       "      <td>3</td>\n",
       "      <td>1</td>\n",
       "    </tr>\n",
       "    <tr>\n",
       "      <th>961</th>\n",
       "      <td>2</td>\n",
       "      <td>2015-09-01 00:14:55</td>\n",
       "      <td>2015-09-01 00:15:11</td>\n",
       "      <td>N</td>\n",
       "      <td>2</td>\n",
       "      <td>-73.946716</td>\n",
       "      <td>40.714317</td>\n",
       "      <td>-73.944954</td>\n",
       "      <td>40.714466</td>\n",
       "      <td>2</td>\n",
       "      <td>...</td>\n",
       "      <td>-52.0</td>\n",
       "      <td>0.0</td>\n",
       "      <td>-0.5</td>\n",
       "      <td>0.0</td>\n",
       "      <td>0.0</td>\n",
       "      <td>NaN</td>\n",
       "      <td>-0.3</td>\n",
       "      <td>-52.8</td>\n",
       "      <td>4</td>\n",
       "      <td>1</td>\n",
       "    </tr>\n",
       "    <tr>\n",
       "      <th>1297</th>\n",
       "      <td>2</td>\n",
       "      <td>2015-09-01 01:00:16</td>\n",
       "      <td>2015-09-01 01:01:07</td>\n",
       "      <td>N</td>\n",
       "      <td>1</td>\n",
       "      <td>-73.863174</td>\n",
       "      <td>40.835274</td>\n",
       "      <td>-73.868782</td>\n",
       "      <td>40.836048</td>\n",
       "      <td>1</td>\n",
       "      <td>...</td>\n",
       "      <td>-2.5</td>\n",
       "      <td>-0.5</td>\n",
       "      <td>-0.5</td>\n",
       "      <td>0.0</td>\n",
       "      <td>0.0</td>\n",
       "      <td>NaN</td>\n",
       "      <td>-0.3</td>\n",
       "      <td>-3.8</td>\n",
       "      <td>3</td>\n",
       "      <td>1</td>\n",
       "    </tr>\n",
       "    <tr>\n",
       "      <th>...</th>\n",
       "      <td>...</td>\n",
       "      <td>...</td>\n",
       "      <td>...</td>\n",
       "      <td>...</td>\n",
       "      <td>...</td>\n",
       "      <td>...</td>\n",
       "      <td>...</td>\n",
       "      <td>...</td>\n",
       "      <td>...</td>\n",
       "      <td>...</td>\n",
       "      <td>...</td>\n",
       "      <td>...</td>\n",
       "      <td>...</td>\n",
       "      <td>...</td>\n",
       "      <td>...</td>\n",
       "      <td>...</td>\n",
       "      <td>...</td>\n",
       "      <td>...</td>\n",
       "      <td>...</td>\n",
       "      <td>...</td>\n",
       "      <td>...</td>\n",
       "    </tr>\n",
       "    <tr>\n",
       "      <th>62113</th>\n",
       "      <td>2</td>\n",
       "      <td>2015-09-02 15:12:08</td>\n",
       "      <td>2015-09-02 15:12:12</td>\n",
       "      <td>N</td>\n",
       "      <td>1</td>\n",
       "      <td>-73.824844</td>\n",
       "      <td>40.677002</td>\n",
       "      <td>-73.824837</td>\n",
       "      <td>40.677029</td>\n",
       "      <td>1</td>\n",
       "      <td>...</td>\n",
       "      <td>-2.5</td>\n",
       "      <td>0.0</td>\n",
       "      <td>-0.5</td>\n",
       "      <td>0.0</td>\n",
       "      <td>0.0</td>\n",
       "      <td>NaN</td>\n",
       "      <td>-0.3</td>\n",
       "      <td>-3.3</td>\n",
       "      <td>3</td>\n",
       "      <td>1</td>\n",
       "    </tr>\n",
       "    <tr>\n",
       "      <th>62252</th>\n",
       "      <td>2</td>\n",
       "      <td>2015-09-02 15:04:03</td>\n",
       "      <td>2015-09-02 15:04:39</td>\n",
       "      <td>N</td>\n",
       "      <td>1</td>\n",
       "      <td>-73.962517</td>\n",
       "      <td>40.809719</td>\n",
       "      <td>-73.962761</td>\n",
       "      <td>40.809769</td>\n",
       "      <td>1</td>\n",
       "      <td>...</td>\n",
       "      <td>-2.5</td>\n",
       "      <td>0.0</td>\n",
       "      <td>-0.5</td>\n",
       "      <td>0.0</td>\n",
       "      <td>0.0</td>\n",
       "      <td>NaN</td>\n",
       "      <td>-0.3</td>\n",
       "      <td>-3.3</td>\n",
       "      <td>3</td>\n",
       "      <td>1</td>\n",
       "    </tr>\n",
       "    <tr>\n",
       "      <th>62432</th>\n",
       "      <td>2</td>\n",
       "      <td>2015-09-02 15:25:44</td>\n",
       "      <td>2015-09-02 15:31:13</td>\n",
       "      <td>N</td>\n",
       "      <td>1</td>\n",
       "      <td>-73.876099</td>\n",
       "      <td>40.876999</td>\n",
       "      <td>-73.875603</td>\n",
       "      <td>40.877567</td>\n",
       "      <td>1</td>\n",
       "      <td>...</td>\n",
       "      <td>-5.0</td>\n",
       "      <td>0.0</td>\n",
       "      <td>-0.5</td>\n",
       "      <td>0.0</td>\n",
       "      <td>0.0</td>\n",
       "      <td>NaN</td>\n",
       "      <td>-0.3</td>\n",
       "      <td>-5.8</td>\n",
       "      <td>3</td>\n",
       "      <td>1</td>\n",
       "    </tr>\n",
       "    <tr>\n",
       "      <th>64197</th>\n",
       "      <td>2</td>\n",
       "      <td>2015-09-02 16:03:36</td>\n",
       "      <td>2015-09-02 16:04:12</td>\n",
       "      <td>N</td>\n",
       "      <td>1</td>\n",
       "      <td>-73.899155</td>\n",
       "      <td>40.679638</td>\n",
       "      <td>-73.898666</td>\n",
       "      <td>40.678555</td>\n",
       "      <td>1</td>\n",
       "      <td>...</td>\n",
       "      <td>-2.5</td>\n",
       "      <td>-1.0</td>\n",
       "      <td>-0.5</td>\n",
       "      <td>0.0</td>\n",
       "      <td>0.0</td>\n",
       "      <td>NaN</td>\n",
       "      <td>-0.3</td>\n",
       "      <td>-4.3</td>\n",
       "      <td>4</td>\n",
       "      <td>1</td>\n",
       "    </tr>\n",
       "    <tr>\n",
       "      <th>64646</th>\n",
       "      <td>2</td>\n",
       "      <td>2015-09-02 16:09:30</td>\n",
       "      <td>2015-09-02 16:12:43</td>\n",
       "      <td>N</td>\n",
       "      <td>3</td>\n",
       "      <td>-73.957771</td>\n",
       "      <td>40.693283</td>\n",
       "      <td>-73.956284</td>\n",
       "      <td>40.683952</td>\n",
       "      <td>1</td>\n",
       "      <td>...</td>\n",
       "      <td>-22.0</td>\n",
       "      <td>-1.0</td>\n",
       "      <td>0.0</td>\n",
       "      <td>0.0</td>\n",
       "      <td>0.0</td>\n",
       "      <td>NaN</td>\n",
       "      <td>-0.3</td>\n",
       "      <td>-23.3</td>\n",
       "      <td>3</td>\n",
       "      <td>1</td>\n",
       "    </tr>\n",
       "  </tbody>\n",
       "</table>\n",
       "<p>109 rows × 21 columns</p>\n",
       "</div>"
      ],
      "text/plain": [
       "       VendorID lpep_pickup_datetime Lpep_dropoff_datetime Store_and_fwd_flag  \\\n",
       "196           2  2015-09-01 00:11:22   2015-09-01 00:20:26                  N   \n",
       "437           2  2015-09-01 00:31:49   2015-09-01 00:35:08                  N   \n",
       "568           2  2015-09-01 00:43:31   2015-09-01 00:44:41                  N   \n",
       "961           2  2015-09-01 00:14:55   2015-09-01 00:15:11                  N   \n",
       "1297          2  2015-09-01 01:00:16   2015-09-01 01:01:07                  N   \n",
       "...         ...                  ...                   ...                ...   \n",
       "62113         2  2015-09-02 15:12:08   2015-09-02 15:12:12                  N   \n",
       "62252         2  2015-09-02 15:04:03   2015-09-02 15:04:39                  N   \n",
       "62432         2  2015-09-02 15:25:44   2015-09-02 15:31:13                  N   \n",
       "64197         2  2015-09-02 16:03:36   2015-09-02 16:04:12                  N   \n",
       "64646         2  2015-09-02 16:09:30   2015-09-02 16:12:43                  N   \n",
       "\n",
       "       RateCodeID  Pickup_longitude  Pickup_latitude  Dropoff_longitude  \\\n",
       "196             1        -73.949593        40.680508         -73.942253   \n",
       "437             1        -73.903450        40.745419         -73.914360   \n",
       "568             1        -73.844284        40.721066         -73.844727   \n",
       "961             2        -73.946716        40.714317         -73.944954   \n",
       "1297            1        -73.863174        40.835274         -73.868782   \n",
       "...           ...               ...              ...                ...   \n",
       "62113           1        -73.824844        40.677002         -73.824837   \n",
       "62252           1        -73.962517        40.809719         -73.962761   \n",
       "62432           1        -73.876099        40.876999         -73.875603   \n",
       "64197           1        -73.899155        40.679638         -73.898666   \n",
       "64646           3        -73.957771        40.693283         -73.956284   \n",
       "\n",
       "       Dropoff_latitude  Passenger_count  ...  Fare_amount  Extra  MTA_tax  \\\n",
       "196           40.700764                1  ...         -2.5   -0.5     -0.5   \n",
       "437           40.745659                5  ...         -4.5   -0.5     -0.5   \n",
       "568           40.720230                1  ...         -3.0   -0.5     -0.5   \n",
       "961           40.714466                2  ...        -52.0    0.0     -0.5   \n",
       "1297          40.836048                1  ...         -2.5   -0.5     -0.5   \n",
       "...                 ...              ...  ...          ...    ...      ...   \n",
       "62113         40.677029                1  ...         -2.5    0.0     -0.5   \n",
       "62252         40.809769                1  ...         -2.5    0.0     -0.5   \n",
       "62432         40.877567                1  ...         -5.0    0.0     -0.5   \n",
       "64197         40.678555                1  ...         -2.5   -1.0     -0.5   \n",
       "64646         40.683952                1  ...        -22.0   -1.0      0.0   \n",
       "\n",
       "       Tip_amount  Tolls_amount  Ehail_fee  improvement_surcharge  \\\n",
       "196           0.0           0.0        NaN                   -0.3   \n",
       "437           0.0           0.0        NaN                   -0.3   \n",
       "568           0.0           0.0        NaN                   -0.3   \n",
       "961           0.0           0.0        NaN                   -0.3   \n",
       "1297          0.0           0.0        NaN                   -0.3   \n",
       "...           ...           ...        ...                    ...   \n",
       "62113         0.0           0.0        NaN                   -0.3   \n",
       "62252         0.0           0.0        NaN                   -0.3   \n",
       "62432         0.0           0.0        NaN                   -0.3   \n",
       "64197         0.0           0.0        NaN                   -0.3   \n",
       "64646         0.0           0.0        NaN                   -0.3   \n",
       "\n",
       "       Total_amount  Payment_type  Trip_type   \n",
       "196            -3.8             3           1  \n",
       "437            -5.8             4           1  \n",
       "568            -4.3             3           1  \n",
       "961           -52.8             4           1  \n",
       "1297           -3.8             3           1  \n",
       "...             ...           ...         ...  \n",
       "62113          -3.3             3           1  \n",
       "62252          -3.3             3           1  \n",
       "62432          -5.8             3           1  \n",
       "64197          -4.3             4           1  \n",
       "64646         -23.3             3           1  \n",
       "\n",
       "[109 rows x 21 columns]"
      ]
     },
     "execution_count": 71,
     "metadata": {},
     "output_type": "execute_result"
    }
   ],
   "source": [
    "# Oi, there are some results less than zero!\n",
    "green_trip_data[green_trip_data.Total_amount < 0]"
   ]
  },
  {
   "cell_type": "code",
   "execution_count": 70,
   "id": "1b451ec2",
   "metadata": {},
   "outputs": [
    {
     "data": {
      "text/html": [
       "<div>\n",
       "<style scoped>\n",
       "    .dataframe tbody tr th:only-of-type {\n",
       "        vertical-align: middle;\n",
       "    }\n",
       "\n",
       "    .dataframe tbody tr th {\n",
       "        vertical-align: top;\n",
       "    }\n",
       "\n",
       "    .dataframe thead th {\n",
       "        text-align: right;\n",
       "    }\n",
       "</style>\n",
       "<table border=\"1\" class=\"dataframe\">\n",
       "  <thead>\n",
       "    <tr style=\"text-align: right;\">\n",
       "      <th></th>\n",
       "      <th>count</th>\n",
       "      <th>mean</th>\n",
       "      <th>std</th>\n",
       "      <th>min</th>\n",
       "      <th>25%</th>\n",
       "      <th>50%</th>\n",
       "      <th>75%</th>\n",
       "      <th>max</th>\n",
       "    </tr>\n",
       "  </thead>\n",
       "  <tbody>\n",
       "    <tr>\n",
       "      <th>VendorID</th>\n",
       "      <td>65535.0</td>\n",
       "      <td>1.784497</td>\n",
       "      <td>0.411174</td>\n",
       "      <td>1.000000</td>\n",
       "      <td>2.000000</td>\n",
       "      <td>2.000000</td>\n",
       "      <td>2.000000</td>\n",
       "      <td>2.000000</td>\n",
       "    </tr>\n",
       "    <tr>\n",
       "      <th>RateCodeID</th>\n",
       "      <td>65535.0</td>\n",
       "      <td>1.124910</td>\n",
       "      <td>0.781101</td>\n",
       "      <td>1.000000</td>\n",
       "      <td>1.000000</td>\n",
       "      <td>1.000000</td>\n",
       "      <td>1.000000</td>\n",
       "      <td>99.000000</td>\n",
       "    </tr>\n",
       "    <tr>\n",
       "      <th>Pickup_longitude</th>\n",
       "      <td>65535.0</td>\n",
       "      <td>-73.808157</td>\n",
       "      <td>3.040510</td>\n",
       "      <td>-75.056404</td>\n",
       "      <td>-73.958015</td>\n",
       "      <td>-73.944176</td>\n",
       "      <td>-73.915222</td>\n",
       "      <td>0.000000</td>\n",
       "    </tr>\n",
       "    <tr>\n",
       "      <th>Pickup_latitude</th>\n",
       "      <td>65535.0</td>\n",
       "      <td>40.685263</td>\n",
       "      <td>1.676843</td>\n",
       "      <td>0.000000</td>\n",
       "      <td>40.700670</td>\n",
       "      <td>40.753559</td>\n",
       "      <td>40.804974</td>\n",
       "      <td>41.032986</td>\n",
       "    </tr>\n",
       "    <tr>\n",
       "      <th>Dropoff_longitude</th>\n",
       "      <td>65535.0</td>\n",
       "      <td>-73.851127</td>\n",
       "      <td>2.466746</td>\n",
       "      <td>-75.081306</td>\n",
       "      <td>-73.967205</td>\n",
       "      <td>-73.944740</td>\n",
       "      <td>-73.909496</td>\n",
       "      <td>0.000000</td>\n",
       "    </tr>\n",
       "    <tr>\n",
       "      <th>Dropoff_latitude</th>\n",
       "      <td>65535.0</td>\n",
       "      <td>40.706524</td>\n",
       "      <td>1.360617</td>\n",
       "      <td>0.000000</td>\n",
       "      <td>40.704659</td>\n",
       "      <td>40.754356</td>\n",
       "      <td>40.798569</td>\n",
       "      <td>41.227257</td>\n",
       "    </tr>\n",
       "    <tr>\n",
       "      <th>Passenger_count</th>\n",
       "      <td>65535.0</td>\n",
       "      <td>1.349432</td>\n",
       "      <td>1.023215</td>\n",
       "      <td>0.000000</td>\n",
       "      <td>1.000000</td>\n",
       "      <td>1.000000</td>\n",
       "      <td>1.000000</td>\n",
       "      <td>9.000000</td>\n",
       "    </tr>\n",
       "    <tr>\n",
       "      <th>Trip_distance</th>\n",
       "      <td>65535.0</td>\n",
       "      <td>2.901488</td>\n",
       "      <td>3.026139</td>\n",
       "      <td>0.000000</td>\n",
       "      <td>1.020000</td>\n",
       "      <td>1.880000</td>\n",
       "      <td>3.650000</td>\n",
       "      <td>62.340000</td>\n",
       "    </tr>\n",
       "    <tr>\n",
       "      <th>Fare_amount</th>\n",
       "      <td>65535.0</td>\n",
       "      <td>12.403890</td>\n",
       "      <td>10.604922</td>\n",
       "      <td>-400.000000</td>\n",
       "      <td>6.000000</td>\n",
       "      <td>9.500000</td>\n",
       "      <td>15.500000</td>\n",
       "      <td>400.000000</td>\n",
       "    </tr>\n",
       "    <tr>\n",
       "      <th>Extra</th>\n",
       "      <td>65535.0</td>\n",
       "      <td>0.304768</td>\n",
       "      <td>0.388277</td>\n",
       "      <td>-1.000000</td>\n",
       "      <td>0.000000</td>\n",
       "      <td>0.000000</td>\n",
       "      <td>0.500000</td>\n",
       "      <td>12.000000</td>\n",
       "    </tr>\n",
       "    <tr>\n",
       "      <th>MTA_tax</th>\n",
       "      <td>65535.0</td>\n",
       "      <td>0.483268</td>\n",
       "      <td>0.094028</td>\n",
       "      <td>-0.500000</td>\n",
       "      <td>0.500000</td>\n",
       "      <td>0.500000</td>\n",
       "      <td>0.500000</td>\n",
       "      <td>0.500000</td>\n",
       "    </tr>\n",
       "    <tr>\n",
       "      <th>Tip_amount</th>\n",
       "      <td>65535.0</td>\n",
       "      <td>1.160306</td>\n",
       "      <td>2.382830</td>\n",
       "      <td>-2.700000</td>\n",
       "      <td>0.000000</td>\n",
       "      <td>0.000000</td>\n",
       "      <td>1.860000</td>\n",
       "      <td>100.000000</td>\n",
       "    </tr>\n",
       "    <tr>\n",
       "      <th>Tolls_amount</th>\n",
       "      <td>65535.0</td>\n",
       "      <td>0.140242</td>\n",
       "      <td>0.921790</td>\n",
       "      <td>0.000000</td>\n",
       "      <td>0.000000</td>\n",
       "      <td>0.000000</td>\n",
       "      <td>0.000000</td>\n",
       "      <td>40.790000</td>\n",
       "    </tr>\n",
       "    <tr>\n",
       "      <th>Ehail_fee</th>\n",
       "      <td>0.0</td>\n",
       "      <td>NaN</td>\n",
       "      <td>NaN</td>\n",
       "      <td>NaN</td>\n",
       "      <td>NaN</td>\n",
       "      <td>NaN</td>\n",
       "      <td>NaN</td>\n",
       "      <td>NaN</td>\n",
       "    </tr>\n",
       "    <tr>\n",
       "      <th>improvement_surcharge</th>\n",
       "      <td>65535.0</td>\n",
       "      <td>0.290021</td>\n",
       "      <td>0.056342</td>\n",
       "      <td>-0.300000</td>\n",
       "      <td>0.300000</td>\n",
       "      <td>0.300000</td>\n",
       "      <td>0.300000</td>\n",
       "      <td>0.300000</td>\n",
       "    </tr>\n",
       "    <tr>\n",
       "      <th>Total_amount</th>\n",
       "      <td>65535.0</td>\n",
       "      <td>14.782860</td>\n",
       "      <td>12.096235</td>\n",
       "      <td>-400.000000</td>\n",
       "      <td>7.800000</td>\n",
       "      <td>11.300000</td>\n",
       "      <td>17.800000</td>\n",
       "      <td>480.000000</td>\n",
       "    </tr>\n",
       "    <tr>\n",
       "      <th>Payment_type</th>\n",
       "      <td>65535.0</td>\n",
       "      <td>1.569619</td>\n",
       "      <td>0.522893</td>\n",
       "      <td>1.000000</td>\n",
       "      <td>1.000000</td>\n",
       "      <td>2.000000</td>\n",
       "      <td>2.000000</td>\n",
       "      <td>5.000000</td>\n",
       "    </tr>\n",
       "    <tr>\n",
       "      <th>Trip_type</th>\n",
       "      <td>65535.0</td>\n",
       "      <td>1.028794</td>\n",
       "      <td>0.167228</td>\n",
       "      <td>1.000000</td>\n",
       "      <td>1.000000</td>\n",
       "      <td>1.000000</td>\n",
       "      <td>1.000000</td>\n",
       "      <td>2.000000</td>\n",
       "    </tr>\n",
       "  </tbody>\n",
       "</table>\n",
       "</div>"
      ],
      "text/plain": [
       "                         count       mean        std         min        25%  \\\n",
       "VendorID               65535.0   1.784497   0.411174    1.000000   2.000000   \n",
       "RateCodeID             65535.0   1.124910   0.781101    1.000000   1.000000   \n",
       "Pickup_longitude       65535.0 -73.808157   3.040510  -75.056404 -73.958015   \n",
       "Pickup_latitude        65535.0  40.685263   1.676843    0.000000  40.700670   \n",
       "Dropoff_longitude      65535.0 -73.851127   2.466746  -75.081306 -73.967205   \n",
       "Dropoff_latitude       65535.0  40.706524   1.360617    0.000000  40.704659   \n",
       "Passenger_count        65535.0   1.349432   1.023215    0.000000   1.000000   \n",
       "Trip_distance          65535.0   2.901488   3.026139    0.000000   1.020000   \n",
       "Fare_amount            65535.0  12.403890  10.604922 -400.000000   6.000000   \n",
       "Extra                  65535.0   0.304768   0.388277   -1.000000   0.000000   \n",
       "MTA_tax                65535.0   0.483268   0.094028   -0.500000   0.500000   \n",
       "Tip_amount             65535.0   1.160306   2.382830   -2.700000   0.000000   \n",
       "Tolls_amount           65535.0   0.140242   0.921790    0.000000   0.000000   \n",
       "Ehail_fee                  0.0        NaN        NaN         NaN        NaN   \n",
       "improvement_surcharge  65535.0   0.290021   0.056342   -0.300000   0.300000   \n",
       "Total_amount           65535.0  14.782860  12.096235 -400.000000   7.800000   \n",
       "Payment_type           65535.0   1.569619   0.522893    1.000000   1.000000   \n",
       "Trip_type              65535.0   1.028794   0.167228    1.000000   1.000000   \n",
       "\n",
       "                             50%        75%         max  \n",
       "VendorID                2.000000   2.000000    2.000000  \n",
       "RateCodeID              1.000000   1.000000   99.000000  \n",
       "Pickup_longitude      -73.944176 -73.915222    0.000000  \n",
       "Pickup_latitude        40.753559  40.804974   41.032986  \n",
       "Dropoff_longitude     -73.944740 -73.909496    0.000000  \n",
       "Dropoff_latitude       40.754356  40.798569   41.227257  \n",
       "Passenger_count         1.000000   1.000000    9.000000  \n",
       "Trip_distance           1.880000   3.650000   62.340000  \n",
       "Fare_amount             9.500000  15.500000  400.000000  \n",
       "Extra                   0.000000   0.500000   12.000000  \n",
       "MTA_tax                 0.500000   0.500000    0.500000  \n",
       "Tip_amount              0.000000   1.860000  100.000000  \n",
       "Tolls_amount            0.000000   0.000000   40.790000  \n",
       "Ehail_fee                    NaN        NaN         NaN  \n",
       "improvement_surcharge   0.300000   0.300000    0.300000  \n",
       "Total_amount           11.300000  17.800000  480.000000  \n",
       "Payment_type            2.000000   2.000000    5.000000  \n",
       "Trip_type               1.000000   1.000000    2.000000  "
      ]
     },
     "execution_count": 70,
     "metadata": {},
     "output_type": "execute_result"
    }
   ],
   "source": [
    "# Let's describe the table\n",
    "green_trip_data.describe().T"
   ]
  },
  {
   "cell_type": "markdown",
   "id": "b14ddab7",
   "metadata": {},
   "source": [
    "### 4. Reading Data from Web services\n",
    "Some web services, which work over the HTTP protocol provide data in the several formats:\n",
    "* JSON\n",
    "* XML\n",
    "* API\n",
    "\n",
    "For the sake of this demo, we will use OpenLibraryAPI. We will also use the `read_json()` function and `orient = \"index\"` to T the \"matrix\"."
   ]
  },
  {
   "cell_type": "code",
   "execution_count": 73,
   "id": "1cc496a6",
   "metadata": {},
   "outputs": [
    {
     "data": {
      "text/html": [
       "<div>\n",
       "<style scoped>\n",
       "    .dataframe tbody tr th:only-of-type {\n",
       "        vertical-align: middle;\n",
       "    }\n",
       "\n",
       "    .dataframe tbody tr th {\n",
       "        vertical-align: top;\n",
       "    }\n",
       "\n",
       "    .dataframe thead th {\n",
       "        text-align: right;\n",
       "    }\n",
       "</style>\n",
       "<table border=\"1\" class=\"dataframe\">\n",
       "  <thead>\n",
       "    <tr style=\"text-align: right;\">\n",
       "      <th></th>\n",
       "      <th>bib_key</th>\n",
       "      <th>info_url</th>\n",
       "      <th>preview</th>\n",
       "      <th>preview_url</th>\n",
       "      <th>thumbnail_url</th>\n",
       "    </tr>\n",
       "  </thead>\n",
       "  <tbody>\n",
       "    <tr>\n",
       "      <th>ISBN:9780345354907</th>\n",
       "      <td>ISBN:9780345354907</td>\n",
       "      <td>https://openlibrary.org/books/OL9831606M/The_C...</td>\n",
       "      <td>borrow</td>\n",
       "      <td>https://archive.org/details/caseofcharlesdex00...</td>\n",
       "      <td>https://covers.openlibrary.org/b/id/207586-S.jpg</td>\n",
       "    </tr>\n",
       "    <tr>\n",
       "      <th>ISBN:0881847690</th>\n",
       "      <td>ISBN:0881847690</td>\n",
       "      <td>https://openlibrary.org/books/OL22232644M/Watc...</td>\n",
       "      <td>borrow</td>\n",
       "      <td>https://archive.org/details/watchersoutoftim00...</td>\n",
       "      <td>https://covers.openlibrary.org/b/id/9871313-S.jpg</td>\n",
       "    </tr>\n",
       "    <tr>\n",
       "      <th>LCCN:2005041555</th>\n",
       "      <td>LCCN:2005041555</td>\n",
       "      <td>https://openlibrary.org/books/OL3421202M/At_th...</td>\n",
       "      <td>restricted</td>\n",
       "      <td>https://archive.org/details/atmountainsofmad00...</td>\n",
       "      <td>https://covers.openlibrary.org/b/id/8259841-S.jpg</td>\n",
       "    </tr>\n",
       "    <tr>\n",
       "      <th>ISBN:0060957905</th>\n",
       "      <td>ISBN:0060957905</td>\n",
       "      <td>https://openlibrary.org/books/OL6784868M/Tales...</td>\n",
       "      <td>noview</td>\n",
       "      <td>https://openlibrary.org/books/OL6784868M/Tales...</td>\n",
       "      <td>https://covers.openlibrary.org/b/id/676505-S.jpg</td>\n",
       "    </tr>\n",
       "  </tbody>\n",
       "</table>\n",
       "</div>"
      ],
      "text/plain": [
       "                               bib_key  \\\n",
       "ISBN:9780345354907  ISBN:9780345354907   \n",
       "ISBN:0881847690        ISBN:0881847690   \n",
       "LCCN:2005041555        LCCN:2005041555   \n",
       "ISBN:0060957905        ISBN:0060957905   \n",
       "\n",
       "                                                             info_url  \\\n",
       "ISBN:9780345354907  https://openlibrary.org/books/OL9831606M/The_C...   \n",
       "ISBN:0881847690     https://openlibrary.org/books/OL22232644M/Watc...   \n",
       "LCCN:2005041555     https://openlibrary.org/books/OL3421202M/At_th...   \n",
       "ISBN:0060957905     https://openlibrary.org/books/OL6784868M/Tales...   \n",
       "\n",
       "                       preview  \\\n",
       "ISBN:9780345354907      borrow   \n",
       "ISBN:0881847690         borrow   \n",
       "LCCN:2005041555     restricted   \n",
       "ISBN:0060957905         noview   \n",
       "\n",
       "                                                          preview_url  \\\n",
       "ISBN:9780345354907  https://archive.org/details/caseofcharlesdex00...   \n",
       "ISBN:0881847690     https://archive.org/details/watchersoutoftim00...   \n",
       "LCCN:2005041555     https://archive.org/details/atmountainsofmad00...   \n",
       "ISBN:0060957905     https://openlibrary.org/books/OL6784868M/Tales...   \n",
       "\n",
       "                                                        thumbnail_url  \n",
       "ISBN:9780345354907   https://covers.openlibrary.org/b/id/207586-S.jpg  \n",
       "ISBN:0881847690     https://covers.openlibrary.org/b/id/9871313-S.jpg  \n",
       "LCCN:2005041555     https://covers.openlibrary.org/b/id/8259841-S.jpg  \n",
       "ISBN:0060957905      https://covers.openlibrary.org/b/id/676505-S.jpg  "
      ]
     },
     "execution_count": 73,
     "metadata": {},
     "output_type": "execute_result"
    }
   ],
   "source": [
    "# Let's first read the data\n",
    "books_data = pd.read_json(\"https://openlibrary.org/api/books?bibkeys=ISBN:9780345354907,ISBN:0881847690,LCCN:2005041555,ISBN:0060957905&format=json\", orient = \"index\")\n",
    "\n",
    "# And display it!\n",
    "books_data"
   ]
  },
  {
   "cell_type": "markdown",
   "id": "6b7e400b",
   "metadata": {},
   "source": [
    "### 5. SQL"
   ]
  },
  {
   "cell_type": "code",
   "execution_count": 77,
   "id": "a1c5a420",
   "metadata": {},
   "outputs": [],
   "source": [
    "# Well, I do not have working db now\n",
    "# TODO: Connect and work a little with SQLAlchemy\n",
    "\n",
    "# pd.read_sql() # This is how we read"
   ]
  },
  {
   "cell_type": "markdown",
   "id": "ab10e801",
   "metadata": {},
   "source": [
    "### 6. Web Scraping"
   ]
  },
  {
   "cell_type": "markdown",
   "id": "14bd020a",
   "metadata": {},
   "source": [
    "Get data from a website using a script (in few words)\n",
    "* `scrapy` is a good one for web scraping"
   ]
  },
  {
   "cell_type": "markdown",
   "id": "03bfe362",
   "metadata": {},
   "source": [
    "### 7. Data Guidelines\n"
   ]
  },
  {
   "cell_type": "markdown",
   "id": "3318f76a",
   "metadata": {},
   "source": [
    "1. Meet the data\n",
    "2. Clean the data\n",
    "3. Repeat\n",
    "\n",
    "Tips:\n",
    "* Automate as much as possible!\n",
    "* Save the raw data\n",
    "* Document the process\n",
    "* Validate the data"
   ]
  },
  {
   "cell_type": "markdown",
   "id": "46fa11c3",
   "metadata": {},
   "source": [
    "### „Валидация му е майката.“ - Данчо"
   ]
  },
  {
   "cell_type": "markdown",
   "id": "6bfd8942",
   "metadata": {},
   "source": [
    "To check:\n",
    "* Time series\n",
    "* ETL\n",
    "* LLMs\n",
    "* Geographical Plot\n",
    "* `dask` - For reading data frames"
   ]
  },
  {
   "cell_type": "markdown",
   "id": "8c13d98f",
   "metadata": {
    "papermill": {
     "duration": 0.001489,
     "end_time": "2023-06-18T22:03:09.902312",
     "exception": false,
     "start_time": "2023-06-18T22:03:09.900823",
     "status": "completed"
    },
    "tags": []
   },
   "source": [
    "Date: 15.06.2023"
   ]
  }
 ],
 "metadata": {
  "kernelspec": {
   "display_name": "Python 3 (ipykernel)",
   "language": "python",
   "name": "python3"
  },
  "language_info": {
   "codemirror_mode": {
    "name": "ipython",
    "version": 3
   },
   "file_extension": ".py",
   "mimetype": "text/x-python",
   "name": "python",
   "nbconvert_exporter": "python",
   "pygments_lexer": "ipython3",
   "version": "3.10.9"
  },
  "papermill": {
   "default_parameters": {},
   "duration": 10.720166,
   "end_time": "2023-06-18T22:03:10.826245",
   "environment_variables": {},
   "exception": null,
   "input_path": "__notebook__.ipynb",
   "output_path": "__notebook__.ipynb",
   "parameters": {},
   "start_time": "2023-06-18T22:03:00.106079",
   "version": "2.4.0"
  }
 },
 "nbformat": 4,
 "nbformat_minor": 5
}
