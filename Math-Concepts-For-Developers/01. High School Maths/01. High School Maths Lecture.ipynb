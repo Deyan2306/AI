{
 "cells": [
  {
   "cell_type": "code",
   "execution_count": 1,
   "id": "ad681e19",
   "metadata": {},
   "outputs": [],
   "source": [
    "# Imports\n",
    "import numpy as np"
   ]
  },
  {
   "cell_type": "markdown",
   "id": "296e9122",
   "metadata": {},
   "source": [
    "# High School Maths\n",
    "\n",
    "Topics:\n",
    "* Scientific method introduction;\n",
    "* Solving linear equations and systems (the “slow” way);\n",
    "* Trigonometry. Right triangle, unit circle, functions and graphs, identities;\n",
    "* High-School geometry, intro to computational geometry."
   ]
  },
  {
   "cell_type": "code",
   "execution_count": 2,
   "id": "15497cbc",
   "metadata": {},
   "outputs": [
    {
     "name": "stdout",
     "output_type": "stream",
     "text": [
      "If this executes, then we are ready for action! :)\n"
     ]
    }
   ],
   "source": [
    "print(\"If this executes, then we are ready for action! :)\")"
   ]
  },
  {
   "cell_type": "markdown",
   "id": "369170ac",
   "metadata": {},
   "source": [
    "Date: 02.03.2023"
   ]
  }
 ],
 "metadata": {
  "kernelspec": {
   "display_name": "Python 3 (ipykernel)",
   "language": "python",
   "name": "python3"
  },
  "language_info": {
   "codemirror_mode": {
    "name": "ipython",
    "version": 3
   },
   "file_extension": ".py",
   "mimetype": "text/x-python",
   "name": "python",
   "nbconvert_exporter": "python",
   "pygments_lexer": "ipython3",
   "version": "3.10.9"
  }
 },
 "nbformat": 4,
 "nbformat_minor": 5
}
