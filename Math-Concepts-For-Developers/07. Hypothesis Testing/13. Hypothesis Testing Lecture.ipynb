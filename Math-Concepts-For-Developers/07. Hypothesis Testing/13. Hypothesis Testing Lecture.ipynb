{
 "cells": [
  {
   "cell_type": "code",
   "execution_count": 1,
   "id": "8e0c6113",
   "metadata": {},
   "outputs": [],
   "source": [
    "# Imports\n",
    "import numpy as np"
   ]
  },
  {
   "cell_type": "markdown",
   "id": "2b2f2fb0",
   "metadata": {},
   "source": [
    "# 07. Hypothesis Testing\n",
    "\n",
    "Topics:\n",
    "* Confidence intervals, confidence level, alpha parameter;\n",
    "* Null and alternate hypothesis;\n",
    "* Z-test, t-test, chi-squared;\n",
    "* ANOVA;\n",
    "* p-value;\n",
    "* p-value misconceptions."
   ]
  },
  {
   "cell_type": "code",
   "execution_count": 2,
   "id": "66534be8",
   "metadata": {},
   "outputs": [
    {
     "name": "stdout",
     "output_type": "stream",
     "text": [
      "If this code executes, then we are ready for action! :)\n"
     ]
    }
   ],
   "source": [
    "print(\"If this code executes, then we are ready for action! :)\")"
   ]
  },
  {
   "cell_type": "markdown",
   "id": "5e2b13ee",
   "metadata": {},
   "source": [
    "Date: 25.05.2023"
   ]
  }
 ],
 "metadata": {
  "kernelspec": {
   "display_name": "Python 3 (ipykernel)",
   "language": "python",
   "name": "python3"
  },
  "language_info": {
   "codemirror_mode": {
    "name": "ipython",
    "version": 3
   },
   "file_extension": ".py",
   "mimetype": "text/x-python",
   "name": "python",
   "nbconvert_exporter": "python",
   "pygments_lexer": "ipython3",
   "version": "3.10.9"
  }
 },
 "nbformat": 4,
 "nbformat_minor": 5
}
