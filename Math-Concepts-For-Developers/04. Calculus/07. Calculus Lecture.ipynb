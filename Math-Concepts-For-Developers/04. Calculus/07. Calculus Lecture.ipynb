{
 "cells": [
  {
   "cell_type": "code",
   "execution_count": 1,
   "id": "91d7fce9",
   "metadata": {},
   "outputs": [],
   "source": [
    "# Imports\n",
    "import numpy as np"
   ]
  },
  {
   "cell_type": "markdown",
   "id": "483c4309",
   "metadata": {},
   "source": [
    "# 04. Calculus\n",
    "\n",
    "Topics:\n",
    "* Limits;\n",
    "* Derivatives – intuition, slope of a function at a point;\n",
    "* Table derivatives;\n",
    "* Rules for calculating derivatives;\n",
    "* Higher-order derivatives;\n",
    "* Riemann sums and integrals. Intuition, oriented area;\n",
    "* Fundamental theorem of calculus;\n",
    "* Extension of calculus to many dimensions – intuition."
   ]
  },
  {
   "cell_type": "code",
   "execution_count": 2,
   "id": "58d0a161",
   "metadata": {},
   "outputs": [
    {
     "name": "stdout",
     "output_type": "stream",
     "text": [
      "If this code executes, then we are ready for action! :)\n"
     ]
    }
   ],
   "source": [
    "print(\"If this code executes, then we are ready for action! :)\")"
   ]
  },
  {
   "cell_type": "markdown",
   "id": "ae5c89d5",
   "metadata": {},
   "source": [
    "Date: 13.04.2023"
   ]
  }
 ],
 "metadata": {
  "kernelspec": {
   "display_name": "Python 3 (ipykernel)",
   "language": "python",
   "name": "python3"
  },
  "language_info": {
   "codemirror_mode": {
    "name": "ipython",
    "version": 3
   },
   "file_extension": ".py",
   "mimetype": "text/x-python",
   "name": "python",
   "nbconvert_exporter": "python",
   "pygments_lexer": "ipython3",
   "version": "3.10.9"
  }
 },
 "nbformat": 4,
 "nbformat_minor": 5
}
