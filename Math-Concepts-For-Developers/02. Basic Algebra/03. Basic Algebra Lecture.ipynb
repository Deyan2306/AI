{
 "cells": [
  {
   "cell_type": "code",
   "execution_count": 1,
   "id": "d653249c",
   "metadata": {},
   "outputs": [],
   "source": [
    "# Imports\n",
    "import numpy as np"
   ]
  },
  {
   "cell_type": "markdown",
   "id": "a69859c5",
   "metadata": {},
   "source": [
    "# 02. Basic Algebra\n",
    "\n",
    "Topics:\n",
    "* Functions (in maths and programming);\n",
    "* Polynomials – idea, representation, operations;\n",
    "* Complex numbers, geometric intuition;\n",
    "* Euler's formula;\n",
    "* Fundamental theorem of algebra;\n",
    "* Bias-variance tradeoff. Error analysis;\n",
    "* Hyperparameter tuning."
   ]
  },
  {
   "cell_type": "code",
   "execution_count": 2,
   "id": "1916e44a",
   "metadata": {},
   "outputs": [
    {
     "name": "stdout",
     "output_type": "stream",
     "text": [
      "If this executes, then we are ready for action! :)\n"
     ]
    }
   ],
   "source": [
    "print(\"If this executes, then we are ready for action! :)\")"
   ]
  },
  {
   "cell_type": "markdown",
   "id": "cfda3283",
   "metadata": {},
   "source": [
    "Date: 16.03.2023"
   ]
  }
 ],
 "metadata": {
  "kernelspec": {
   "display_name": "Python 3 (ipykernel)",
   "language": "python",
   "name": "python3"
  },
  "language_info": {
   "codemirror_mode": {
    "name": "ipython",
    "version": 3
   },
   "file_extension": ".py",
   "mimetype": "text/x-python",
   "name": "python",
   "nbconvert_exporter": "python",
   "pygments_lexer": "ipython3",
   "version": "3.10.9"
  }
 },
 "nbformat": 4,
 "nbformat_minor": 5
}
