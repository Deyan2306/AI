{
 "cells": [
  {
   "cell_type": "code",
   "execution_count": 1,
   "id": "8477e563",
   "metadata": {},
   "outputs": [],
   "source": [
    "# Imports\n",
    "import numpy as np"
   ]
  },
  {
   "cell_type": "markdown",
   "id": "0fd94379",
   "metadata": {},
   "source": [
    "# 05. Probability And Combinatorics\n",
    "\n",
    "Topics:\n",
    "* Random variables;\n",
    "* Probability. Definitions: frequency, chance of happening next time;\n",
    "* Events and algebra of events;\n",
    "* Combinatoric rules;\n",
    "* Probability mass function, probability density function, cumulative distribution function;\n",
    "* Central limit theorem."
   ]
  },
  {
   "cell_type": "code",
   "execution_count": 2,
   "id": "f31ae95f",
   "metadata": {},
   "outputs": [
    {
     "name": "stdout",
     "output_type": "stream",
     "text": [
      "If this code executes, then we are ready for action! :)\n"
     ]
    }
   ],
   "source": [
    "print(\"If this code executes, then we are ready for action! :)\")"
   ]
  },
  {
   "cell_type": "markdown",
   "id": "7ca43edb",
   "metadata": {},
   "source": [
    "Date: 27.04.2023"
   ]
  }
 ],
 "metadata": {
  "kernelspec": {
   "display_name": "Python 3 (ipykernel)",
   "language": "python",
   "name": "python3"
  },
  "language_info": {
   "codemirror_mode": {
    "name": "ipython",
    "version": 3
   },
   "file_extension": ".py",
   "mimetype": "text/x-python",
   "name": "python",
   "nbconvert_exporter": "python",
   "pygments_lexer": "ipython3",
   "version": "3.10.9"
  }
 },
 "nbformat": 4,
 "nbformat_minor": 5
}
