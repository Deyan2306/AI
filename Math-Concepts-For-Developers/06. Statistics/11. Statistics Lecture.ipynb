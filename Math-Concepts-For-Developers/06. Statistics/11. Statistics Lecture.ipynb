{
 "cells": [
  {
   "cell_type": "code",
   "execution_count": 1,
   "id": "0d52d384",
   "metadata": {},
   "outputs": [],
   "source": [
    "# Imports\n",
    "import numpy as np"
   ]
  },
  {
   "cell_type": "markdown",
   "id": "77a588c3",
   "metadata": {},
   "source": [
    "# 06. Statistics\n",
    "\n",
    "Topics:\n",
    "* Definition. Descriptive and inferential statistics;\n",
    "* Sample and population. Sampling rules;\n",
    "* Moments of distributions;\n",
    "* Covariance and correlation;\n",
    "* Anscombe's quartet;\n",
    "* Simpson's paradox."
   ]
  },
  {
   "cell_type": "code",
   "execution_count": 2,
   "id": "764f4e09",
   "metadata": {},
   "outputs": [
    {
     "name": "stdout",
     "output_type": "stream",
     "text": [
      "If this code executes, then we are ready for action! :)\n"
     ]
    }
   ],
   "source": [
    "print(\"If this code executes, then we are ready for action! :)\")"
   ]
  },
  {
   "cell_type": "markdown",
   "id": "e8782bb3",
   "metadata": {},
   "source": [
    "Date: 11.05.2023"
   ]
  }
 ],
 "metadata": {
  "kernelspec": {
   "display_name": "Python 3 (ipykernel)",
   "language": "python",
   "name": "python3"
  },
  "language_info": {
   "codemirror_mode": {
    "name": "ipython",
    "version": 3
   },
   "file_extension": ".py",
   "mimetype": "text/x-python",
   "name": "python",
   "nbconvert_exporter": "python",
   "pygments_lexer": "ipython3",
   "version": "3.10.9"
  }
 },
 "nbformat": 4,
 "nbformat_minor": 5
}
