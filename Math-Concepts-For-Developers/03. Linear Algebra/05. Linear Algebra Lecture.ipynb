{
 "cells": [
  {
   "cell_type": "code",
   "execution_count": 1,
   "id": "1de35e51",
   "metadata": {},
   "outputs": [],
   "source": [
    "# Imports\n",
    "import numpy as np"
   ]
  },
  {
   "cell_type": "markdown",
   "id": "dd8aea7a",
   "metadata": {},
   "source": [
    "# 03. Linear Algebra\n",
    "\n",
    "Topics:\n",
    "* Matrices. Operations with matrices;\n",
    "* Vectors and vector spaces. Basis, change of basis;\n",
    "* Inverse matrix;\n",
    "* Determinant, oriented area and volume."
   ]
  },
  {
   "cell_type": "code",
   "execution_count": 2,
   "id": "575fef0b",
   "metadata": {},
   "outputs": [
    {
     "name": "stdout",
     "output_type": "stream",
     "text": [
      "If this code executes, then we are ready for action! :)\n"
     ]
    }
   ],
   "source": [
    "print(\"If this code executes, then we are ready for action! :)\")"
   ]
  },
  {
   "cell_type": "markdown",
   "id": "46d5bbeb",
   "metadata": {},
   "source": [
    "Date: 30.03.2023"
   ]
  }
 ],
 "metadata": {
  "kernelspec": {
   "display_name": "Python 3 (ipykernel)",
   "language": "python",
   "name": "python3"
  },
  "language_info": {
   "codemirror_mode": {
    "name": "ipython",
    "version": 3
   },
   "file_extension": ".py",
   "mimetype": "text/x-python",
   "name": "python",
   "nbconvert_exporter": "python",
   "pygments_lexer": "ipython3",
   "version": "3.10.9"
  }
 },
 "nbformat": 4,
 "nbformat_minor": 5
}
